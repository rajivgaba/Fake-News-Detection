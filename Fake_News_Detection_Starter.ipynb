{
  "cells": [
    {
      "cell_type": "markdown",
      "metadata": {
        "id": "rhR-ZUkwJrFn"
      },
      "source": [
        "# Fake News Detection\n",
        "\n",
        "\n"
      ]
    },
    {
      "cell_type": "markdown",
      "metadata": {
        "id": "hXeHUV5fJGiZ"
      },
      "source": [
        "## Objective\n"
      ]
    },
    {
      "cell_type": "markdown",
      "metadata": {
        "id": "kX73YZdgJIgF"
      },
      "source": [
        "The objective of this assignment is to develop a Semantic Classification model. You will be using Word2Vec method to extract the semantic relations from the text and develop a basic understanding of how to train supervised models to categorise text based on its meaning, rather than just syntax. You will explore how this technique is used in situations where understanding textual meaning plays a critical role in making accurate and efficient decisions.\n"
      ]
    },
    {
      "cell_type": "markdown",
      "source": [
        "## Business Objective\n",
        "\n",
        "The spread of fake news has become a significant challenge in today’s digital world. With the massive volume of news articles published daily, it’s becoming harder to distinguish between credible and misleading information. This creates a need for systems that can automatically classify news articles as true or fake, helping to reduce misinformation and protect public trust.\n",
        "\n",
        "\n",
        "In this assignment, you will develop a Semantic Classification model that uses the Word2Vec method to detect recurring patterns and themes in news articles. Using supervised learning models, the goal is to build a system that classifies news articles as either fake or true.\n"
      ],
      "metadata": {
        "id": "Gg_J6K8Xxfk2"
      }
    },
    {
      "cell_type": "markdown",
      "metadata": {
        "id": "ySqxOckxI4-F"
      },
      "source": [
        "<h2> Pipelines that needs to be performed </h2>\n",
        "\n",
        "You need to perform the following tasks to complete the assignment:\n",
        "\n",
        "<ol type=\"1\">\n",
        "\n",
        "  <li> Data Preparation\n",
        "  <li> Text Preprocessing\n",
        "  <li> Train Validation Split\n",
        "  <li> EDA on Training Data\n",
        "  <li> EDA on Validation Data [Optional]\n",
        "  <li> Feature Extraction\n",
        "  <li> Model Training and Evaluation\n",
        "\n",
        "</ol>"
      ]
    },
    {
      "cell_type": "markdown",
      "metadata": {
        "id": "gTxV-3GJUhWm"
      },
      "source": [
        "---"
      ]
    },
    {
      "cell_type": "markdown",
      "metadata": {
        "id": "ofebI8ITG-Li"
      },
      "source": [
        "**NOTE:** The marks given along with headings and sub-headings are cumulative marks for those particular headings/sub-headings.<br>\n",
        "\n",
        "The actual marks for each task are specified within the tasks themselves.\n",
        "\n",
        "For example, marks given with heading *2* or sub-heading *2.1* are the cumulative marks, for your reference only. <br>\n",
        "\n",
        "The marks you will receive for completing tasks are given with the tasks.\n",
        "\n",
        "Suppose the marks for two tasks are: 3 marks for 2.1.1 and 2 marks for 3.2.2, or\n",
        "* 2.1.1 [3 marks]\n",
        "* 3.2.2 [2 marks]\n",
        "\n",
        "then, you will earn 3 marks for completing task 2.1.1 and 2 marks for completing task 3.2.2.\n"
      ]
    },
    {
      "cell_type": "markdown",
      "metadata": {
        "id": "YdQjht7dUiHt"
      },
      "source": [
        "---"
      ]
    },
    {
      "cell_type": "markdown",
      "metadata": {
        "id": "8b1lNTpKF54T"
      },
      "source": [
        "## Data Dictionary\n"
      ]
    },
    {
      "cell_type": "markdown",
      "metadata": {
        "id": "43j_A_GsI9TS"
      },
      "source": [
        "For this assignment, you will work with two datasets, `True.csv` and `Fake.csv`.\n",
        "Both datasets contain three columns:\n",
        "<ul>\n",
        "  <li> title of the news article\n",
        "  <li> text of the news article\n",
        "  <li> date of article publication\n",
        "</ul>\n",
        "\n",
        "`True.csv` dataset includes 21,417 true news, while the `Fake.csv` dataset comprises 23,502 fake news."
      ]
    },
    {
      "cell_type": "markdown",
      "metadata": {
        "id": "_oTQwQ_Rh4nT"
      },
      "source": [
        "## Installing required Libraries"
      ]
    },
    {
      "cell_type": "code",
      "execution_count": null,
      "metadata": {
        "id": "lIY57QOLiCA2",
        "scrolled": true
      },
      "outputs": [],
      "source": [
        "!pip install --upgrade numpy==1.26.4\n",
        "!pip install --upgrade pandas==2.2.2\n",
        "!pip install --upgrade nltk==3.9.1\n",
        "!pip install --upgrade spacy==3.7.5\n",
        "!pip install --upgrade scipy==1.12\n",
        "!pip install --upgrade pydantic==2.10.5\n",
        "!pip install wordcloud==1.9.4\n",
        "!python -m spacy download en_core_web_sm"
      ]
    },
    {
      "cell_type": "markdown",
      "metadata": {
        "id": "JuLFIymAL58u"
      },
      "source": [
        "## Importing the necessary libraries"
      ]
    },
    {
      "cell_type": "code",
      "execution_count": 2,
      "metadata": {
        "id": "O-Q9pqrcJrFr"
      },
      "outputs": [],
      "source": [
        "# Import essential libraries for data manipulation and analysis\n",
        "import numpy as np  # For numerical operations and arrays\n",
        "import pandas as pd  # For working with dataframes and structured data\n",
        "import re  # For regular expression operations (text processing)\n",
        "import nltk  # Natural Language Toolkit for text processing\n",
        "import spacy  # For advanced NLP tasks\n",
        "import string  # For handling string-related operations\n",
        "\n",
        "# Optional: Uncomment the line below to enable GPU support for spaCy (if you have a compatible GPU)\n",
        "#spacy.require_gpu()\n",
        "\n",
        "# Load the spaCy small English language model\n",
        "nlp = spacy.load(\"en_core_web_sm\")\n",
        "\n",
        "# For data visualization\n",
        "import seaborn as sns  # Data visualization library for statistical graphics\n",
        "import matplotlib.pyplot as plt  # Matplotlib for creating static plots\n",
        "# Configure Matplotlib to display plots inline in Jupyter Notebook\n",
        "%matplotlib inline\n",
        "\n",
        "# Suppress unnecessary warnings to keep output clean\n",
        "import warnings\n",
        "warnings.filterwarnings('ignore')\n",
        "\n",
        "# For interactive plots\n",
        "from plotly.offline import plot  # Enables offline plotting with Plotly\n",
        "import plotly.graph_objects as go  # For creating customizable Plotly plots\n",
        "import plotly.express as px  # A high-level interface for Plotly\n",
        "\n",
        "# For preprocessing and feature extraction in machine learning\n",
        "from sklearn.feature_extraction.text import (  # Methods for text vectorization\n",
        "    CountVectorizer,  # Converts text into a bag-of-words model\n",
        ")\n",
        "\n",
        "# Import accuracy, precision, recall, f_score from sklearn to predict train accuracy\n",
        "from sklearn.metrics import accuracy_score, precision_score, recall_score, f1_score\n",
        "\n",
        "# Pretty printing for better readability of output\n",
        "from pprint import pprint\n",
        "\n",
        "# For progress tracking in loops (useful for larger datasets)\n",
        "from tqdm import tqdm, tqdm_notebook  # Progress bar for loops\n",
        "tqdm.pandas()  # Enables progress bars for pandas operations\n"
      ]
    },
    {
      "cell_type": "code",
      "execution_count": null,
      "metadata": {
        "id": "s8Le3OfjI666"
      },
      "outputs": [],
      "source": [
        "## Change the display properties of pandas to max\n",
        "# pd.set_option('display.max_colwidth', None)\n",
        "# pd.set_option('display.max_columns', None)\n",
        "# pd.set_option('display.max_rows', None)"
      ]
    },
    {
      "cell_type": "markdown",
      "metadata": {
        "id": "KtRLCsNVJrFt"
      },
      "source": [
        "## Load the data\n",
        "\n",
        "Load the True.csv and Fake.csv files as DataFrames"
      ]
    },
    {
      "cell_type": "code",
      "execution_count": 5,
      "metadata": {
        "id": "puVzIf_iJrFt"
      },
      "outputs": [],
      "source": [
        "# Import the first file - True.csv\n",
        "true_df = pd.read_csv('/content/sample_data/True.csv')\n",
        "\n",
        "# Import the second file - Fake.csv\n",
        "fake_df = pd.read_csv('/content/sample_data/Fake.csv')\n"
      ]
    },
    {
      "cell_type": "markdown",
      "metadata": {
        "id": "_xYpH-sAJrFu"
      },
      "source": [
        "## **1.** Data Preparation  <font color = red>[10 marks]</font>\n",
        "\n",
        "\n",
        "\n"
      ]
    },
    {
      "cell_type": "markdown",
      "metadata": {
        "id": "A2fTeYJImEv7"
      },
      "source": [
        "### **1.0** Data Understanding"
      ]
    },
    {
      "cell_type": "code",
      "execution_count": 6,
      "metadata": {
        "id": "Lf8ufHH5JrFu",
        "colab": {
          "base_uri": "https://localhost:8080/",
          "height": 206
        },
        "outputId": "e61b1b1e-f9e8-4c73-a8b5-b48a7084d710"
      },
      "outputs": [
        {
          "output_type": "execute_result",
          "data": {
            "text/plain": [
              "                                               title  \\\n",
              "0  As U.S. budget fight looms, Republicans flip t...   \n",
              "1  U.S. military to accept transgender recruits o...   \n",
              "2  Senior U.S. Republican senator: 'Let Mr. Muell...   \n",
              "3  FBI Russia probe helped by Australian diplomat...   \n",
              "4  Trump wants Postal Service to charge 'much mor...   \n",
              "\n",
              "                                                text                date  \n",
              "0  WASHINGTON (Reuters) - The head of a conservat...  December 31, 2017   \n",
              "1  WASHINGTON (Reuters) - Transgender people will...  December 29, 2017   \n",
              "2  WASHINGTON (Reuters) - The special counsel inv...  December 31, 2017   \n",
              "3  WASHINGTON (Reuters) - Trump campaign adviser ...  December 30, 2017   \n",
              "4  SEATTLE/WASHINGTON (Reuters) - President Donal...  December 29, 2017   "
            ],
            "text/html": [
              "\n",
              "  <div id=\"df-8eba842f-dcd5-41c1-94e7-ce3628239b14\" class=\"colab-df-container\">\n",
              "    <div>\n",
              "<style scoped>\n",
              "    .dataframe tbody tr th:only-of-type {\n",
              "        vertical-align: middle;\n",
              "    }\n",
              "\n",
              "    .dataframe tbody tr th {\n",
              "        vertical-align: top;\n",
              "    }\n",
              "\n",
              "    .dataframe thead th {\n",
              "        text-align: right;\n",
              "    }\n",
              "</style>\n",
              "<table border=\"1\" class=\"dataframe\">\n",
              "  <thead>\n",
              "    <tr style=\"text-align: right;\">\n",
              "      <th></th>\n",
              "      <th>title</th>\n",
              "      <th>text</th>\n",
              "      <th>date</th>\n",
              "    </tr>\n",
              "  </thead>\n",
              "  <tbody>\n",
              "    <tr>\n",
              "      <th>0</th>\n",
              "      <td>As U.S. budget fight looms, Republicans flip t...</td>\n",
              "      <td>WASHINGTON (Reuters) - The head of a conservat...</td>\n",
              "      <td>December 31, 2017</td>\n",
              "    </tr>\n",
              "    <tr>\n",
              "      <th>1</th>\n",
              "      <td>U.S. military to accept transgender recruits o...</td>\n",
              "      <td>WASHINGTON (Reuters) - Transgender people will...</td>\n",
              "      <td>December 29, 2017</td>\n",
              "    </tr>\n",
              "    <tr>\n",
              "      <th>2</th>\n",
              "      <td>Senior U.S. Republican senator: 'Let Mr. Muell...</td>\n",
              "      <td>WASHINGTON (Reuters) - The special counsel inv...</td>\n",
              "      <td>December 31, 2017</td>\n",
              "    </tr>\n",
              "    <tr>\n",
              "      <th>3</th>\n",
              "      <td>FBI Russia probe helped by Australian diplomat...</td>\n",
              "      <td>WASHINGTON (Reuters) - Trump campaign adviser ...</td>\n",
              "      <td>December 30, 2017</td>\n",
              "    </tr>\n",
              "    <tr>\n",
              "      <th>4</th>\n",
              "      <td>Trump wants Postal Service to charge 'much mor...</td>\n",
              "      <td>SEATTLE/WASHINGTON (Reuters) - President Donal...</td>\n",
              "      <td>December 29, 2017</td>\n",
              "    </tr>\n",
              "  </tbody>\n",
              "</table>\n",
              "</div>\n",
              "    <div class=\"colab-df-buttons\">\n",
              "\n",
              "  <div class=\"colab-df-container\">\n",
              "    <button class=\"colab-df-convert\" onclick=\"convertToInteractive('df-8eba842f-dcd5-41c1-94e7-ce3628239b14')\"\n",
              "            title=\"Convert this dataframe to an interactive table.\"\n",
              "            style=\"display:none;\">\n",
              "\n",
              "  <svg xmlns=\"http://www.w3.org/2000/svg\" height=\"24px\" viewBox=\"0 -960 960 960\">\n",
              "    <path d=\"M120-120v-720h720v720H120Zm60-500h600v-160H180v160Zm220 220h160v-160H400v160Zm0 220h160v-160H400v160ZM180-400h160v-160H180v160Zm440 0h160v-160H620v160ZM180-180h160v-160H180v160Zm440 0h160v-160H620v160Z\"/>\n",
              "  </svg>\n",
              "    </button>\n",
              "\n",
              "  <style>\n",
              "    .colab-df-container {\n",
              "      display:flex;\n",
              "      gap: 12px;\n",
              "    }\n",
              "\n",
              "    .colab-df-convert {\n",
              "      background-color: #E8F0FE;\n",
              "      border: none;\n",
              "      border-radius: 50%;\n",
              "      cursor: pointer;\n",
              "      display: none;\n",
              "      fill: #1967D2;\n",
              "      height: 32px;\n",
              "      padding: 0 0 0 0;\n",
              "      width: 32px;\n",
              "    }\n",
              "\n",
              "    .colab-df-convert:hover {\n",
              "      background-color: #E2EBFA;\n",
              "      box-shadow: 0px 1px 2px rgba(60, 64, 67, 0.3), 0px 1px 3px 1px rgba(60, 64, 67, 0.15);\n",
              "      fill: #174EA6;\n",
              "    }\n",
              "\n",
              "    .colab-df-buttons div {\n",
              "      margin-bottom: 4px;\n",
              "    }\n",
              "\n",
              "    [theme=dark] .colab-df-convert {\n",
              "      background-color: #3B4455;\n",
              "      fill: #D2E3FC;\n",
              "    }\n",
              "\n",
              "    [theme=dark] .colab-df-convert:hover {\n",
              "      background-color: #434B5C;\n",
              "      box-shadow: 0px 1px 3px 1px rgba(0, 0, 0, 0.15);\n",
              "      filter: drop-shadow(0px 1px 2px rgba(0, 0, 0, 0.3));\n",
              "      fill: #FFFFFF;\n",
              "    }\n",
              "  </style>\n",
              "\n",
              "    <script>\n",
              "      const buttonEl =\n",
              "        document.querySelector('#df-8eba842f-dcd5-41c1-94e7-ce3628239b14 button.colab-df-convert');\n",
              "      buttonEl.style.display =\n",
              "        google.colab.kernel.accessAllowed ? 'block' : 'none';\n",
              "\n",
              "      async function convertToInteractive(key) {\n",
              "        const element = document.querySelector('#df-8eba842f-dcd5-41c1-94e7-ce3628239b14');\n",
              "        const dataTable =\n",
              "          await google.colab.kernel.invokeFunction('convertToInteractive',\n",
              "                                                    [key], {});\n",
              "        if (!dataTable) return;\n",
              "\n",
              "        const docLinkHtml = 'Like what you see? Visit the ' +\n",
              "          '<a target=\"_blank\" href=https://colab.research.google.com/notebooks/data_table.ipynb>data table notebook</a>'\n",
              "          + ' to learn more about interactive tables.';\n",
              "        element.innerHTML = '';\n",
              "        dataTable['output_type'] = 'display_data';\n",
              "        await google.colab.output.renderOutput(dataTable, element);\n",
              "        const docLink = document.createElement('div');\n",
              "        docLink.innerHTML = docLinkHtml;\n",
              "        element.appendChild(docLink);\n",
              "      }\n",
              "    </script>\n",
              "  </div>\n",
              "\n",
              "\n",
              "    <div id=\"df-e24653b4-0b99-45bd-936f-a3e66048f137\">\n",
              "      <button class=\"colab-df-quickchart\" onclick=\"quickchart('df-e24653b4-0b99-45bd-936f-a3e66048f137')\"\n",
              "                title=\"Suggest charts\"\n",
              "                style=\"display:none;\">\n",
              "\n",
              "<svg xmlns=\"http://www.w3.org/2000/svg\" height=\"24px\"viewBox=\"0 0 24 24\"\n",
              "     width=\"24px\">\n",
              "    <g>\n",
              "        <path d=\"M19 3H5c-1.1 0-2 .9-2 2v14c0 1.1.9 2 2 2h14c1.1 0 2-.9 2-2V5c0-1.1-.9-2-2-2zM9 17H7v-7h2v7zm4 0h-2V7h2v10zm4 0h-2v-4h2v4z\"/>\n",
              "    </g>\n",
              "</svg>\n",
              "      </button>\n",
              "\n",
              "<style>\n",
              "  .colab-df-quickchart {\n",
              "      --bg-color: #E8F0FE;\n",
              "      --fill-color: #1967D2;\n",
              "      --hover-bg-color: #E2EBFA;\n",
              "      --hover-fill-color: #174EA6;\n",
              "      --disabled-fill-color: #AAA;\n",
              "      --disabled-bg-color: #DDD;\n",
              "  }\n",
              "\n",
              "  [theme=dark] .colab-df-quickchart {\n",
              "      --bg-color: #3B4455;\n",
              "      --fill-color: #D2E3FC;\n",
              "      --hover-bg-color: #434B5C;\n",
              "      --hover-fill-color: #FFFFFF;\n",
              "      --disabled-bg-color: #3B4455;\n",
              "      --disabled-fill-color: #666;\n",
              "  }\n",
              "\n",
              "  .colab-df-quickchart {\n",
              "    background-color: var(--bg-color);\n",
              "    border: none;\n",
              "    border-radius: 50%;\n",
              "    cursor: pointer;\n",
              "    display: none;\n",
              "    fill: var(--fill-color);\n",
              "    height: 32px;\n",
              "    padding: 0;\n",
              "    width: 32px;\n",
              "  }\n",
              "\n",
              "  .colab-df-quickchart:hover {\n",
              "    background-color: var(--hover-bg-color);\n",
              "    box-shadow: 0 1px 2px rgba(60, 64, 67, 0.3), 0 1px 3px 1px rgba(60, 64, 67, 0.15);\n",
              "    fill: var(--button-hover-fill-color);\n",
              "  }\n",
              "\n",
              "  .colab-df-quickchart-complete:disabled,\n",
              "  .colab-df-quickchart-complete:disabled:hover {\n",
              "    background-color: var(--disabled-bg-color);\n",
              "    fill: var(--disabled-fill-color);\n",
              "    box-shadow: none;\n",
              "  }\n",
              "\n",
              "  .colab-df-spinner {\n",
              "    border: 2px solid var(--fill-color);\n",
              "    border-color: transparent;\n",
              "    border-bottom-color: var(--fill-color);\n",
              "    animation:\n",
              "      spin 1s steps(1) infinite;\n",
              "  }\n",
              "\n",
              "  @keyframes spin {\n",
              "    0% {\n",
              "      border-color: transparent;\n",
              "      border-bottom-color: var(--fill-color);\n",
              "      border-left-color: var(--fill-color);\n",
              "    }\n",
              "    20% {\n",
              "      border-color: transparent;\n",
              "      border-left-color: var(--fill-color);\n",
              "      border-top-color: var(--fill-color);\n",
              "    }\n",
              "    30% {\n",
              "      border-color: transparent;\n",
              "      border-left-color: var(--fill-color);\n",
              "      border-top-color: var(--fill-color);\n",
              "      border-right-color: var(--fill-color);\n",
              "    }\n",
              "    40% {\n",
              "      border-color: transparent;\n",
              "      border-right-color: var(--fill-color);\n",
              "      border-top-color: var(--fill-color);\n",
              "    }\n",
              "    60% {\n",
              "      border-color: transparent;\n",
              "      border-right-color: var(--fill-color);\n",
              "    }\n",
              "    80% {\n",
              "      border-color: transparent;\n",
              "      border-right-color: var(--fill-color);\n",
              "      border-bottom-color: var(--fill-color);\n",
              "    }\n",
              "    90% {\n",
              "      border-color: transparent;\n",
              "      border-bottom-color: var(--fill-color);\n",
              "    }\n",
              "  }\n",
              "</style>\n",
              "\n",
              "      <script>\n",
              "        async function quickchart(key) {\n",
              "          const quickchartButtonEl =\n",
              "            document.querySelector('#' + key + ' button');\n",
              "          quickchartButtonEl.disabled = true;  // To prevent multiple clicks.\n",
              "          quickchartButtonEl.classList.add('colab-df-spinner');\n",
              "          try {\n",
              "            const charts = await google.colab.kernel.invokeFunction(\n",
              "                'suggestCharts', [key], {});\n",
              "          } catch (error) {\n",
              "            console.error('Error during call to suggestCharts:', error);\n",
              "          }\n",
              "          quickchartButtonEl.classList.remove('colab-df-spinner');\n",
              "          quickchartButtonEl.classList.add('colab-df-quickchart-complete');\n",
              "        }\n",
              "        (() => {\n",
              "          let quickchartButtonEl =\n",
              "            document.querySelector('#df-e24653b4-0b99-45bd-936f-a3e66048f137 button');\n",
              "          quickchartButtonEl.style.display =\n",
              "            google.colab.kernel.accessAllowed ? 'block' : 'none';\n",
              "        })();\n",
              "      </script>\n",
              "    </div>\n",
              "\n",
              "    </div>\n",
              "  </div>\n"
            ],
            "application/vnd.google.colaboratory.intrinsic+json": {
              "type": "dataframe",
              "variable_name": "true_df",
              "summary": "{\n  \"name\": \"true_df\",\n  \"rows\": 21417,\n  \"fields\": [\n    {\n      \"column\": \"title\",\n      \"properties\": {\n        \"dtype\": \"string\",\n        \"num_unique_values\": 20826,\n        \"samples\": [\n          \"German, Turkish foreign ministers meet after detainee released\",\n          \"Kremlin calls North Korea's latest missile launch another 'provocation'\",\n          \"Transgender soldiers, veterans shaken by Trump's ban on their service\"\n        ],\n        \"semantic_type\": \"\",\n        \"description\": \"\"\n      }\n    },\n    {\n      \"column\": \"text\",\n      \"properties\": {\n        \"dtype\": \"string\",\n        \"num_unique_values\": 21192,\n        \"samples\": [\n          \"WASHINGTON (Reuters) - A majority of the U.S. Senate on Tuesday backed a new round of disaster aid to help Puerto Rico and several states recover from damage from hurricanes and wildfires. The legislation would provide $36.5 billion in emergency relief as Puerto Rico in particular struggles to regain electricity and other basic services following destructive hurricanes. The House of Representatives approved the bill earlier this month. The Trump administration already has indicated it will seek another round of emergency relief from Congress. \",\n          \"BUDAPEST (Reuters) - About a thousand Hungarians protested on Friday against a crackdown on the main opposition party Jobbik which has been  threatened by a record political campaign fine that the party leader describes as a  death sentence  for democracy. Despite the gloomy rhetoric and Jobbik saying it was fighting for survival, support for the demonstration was well down on other similar rallies over the past year. Hungarians will vote for a new parliament in April and Prime Minister Viktor Orban s conservative, anti-migrant Fidesz party is far ahead in the polls, with Jobbik its nearest rival. Jobbik, once on the far right, has turned toward the center in a bid to attract more support and is now campaigning nationwide against Orban, depicting him as the leader of a criminal gang. Orban, rejecting the charges, says his financial standing is  an open book . Last week the state audit office (ASZ) ruled Jobbik had bought political posters far below market prices, breaching rules on political funding, then it slapped a 663 million forint ($2.5 million) penalty on the party. The protesters, waving Jobbik flags and posters deriding the ruling elite, gathered outside the headquarters of Orban s Fidesz party.  What we see unfolding is not an audit office investigation. It is not an official penalty. This is a death sentence with Jobbik s name on it. But in reality, it is a death sentence for Hungarian democracy,  Jobbiik leader Gabor Vona told the crowd. A government spokesman could not comment immediately on his remarks. ASZ chairman Laszlo Domokos is a former Fidesz lawmaker, whom Jobbik and other critics accuse of making decisions in favor of Orban. The audit office denies that. On Friday, ASZ again called on Jobbik to submit information that would challenge its findings, saying it acted fully within its rights throughout the probe. The ruling Fidesz party and the government have denied any involvement in the ASZ probe.  This case has nothing to do with the election campaign,  Orban aide Janos Lazar said on Thursday. For over a year Fidesz has targeted Jobbik, whose move to the center could upend the longstanding status quo of a dominant Fidesz with weaker opponents to its left and its right, said analyst Zoltan Novak at the Centre for Fair Political Analysis. Gyorgy Illes, a 67-year-old pensioner attending the rally, said he used to be a Socialist supporter but got disillusioned as the party struggled to overcome its internal divisions.  This ASZ probe is a clear sign that Orban is way past any remedy. It is a ruthless attack on everything we hold dear. Democracy, the rule of law, equality, you name it,  he said. \",\n          \"BEIJING/TAIPEI (Reuters) - China accused the United States on Thursday of interfering in its internal affairs and said it had lodged a complaint after U.S. President Donald Trump signed into law an act laying the groundwork for possible U.S. navy visits to self-ruled Taiwan. Tensions have risen in recent days after a senior Chinese diplomat threatened China would invade Taiwan if any U.S. warships made port visits to the island which China claims as its own territory. On Monday, Chinese jets carried out  island encirclement patrols  around Taiwan, with state media showing pictures of bombers with cruise missiles slung under their wings as they carried out the exercise. On Tuesday, Trump signed into law the National Defense Authorization Act for the 2018 fiscal year, which authorizes the possibility of mutual visits by navy vessels between Taiwan and the United States. Such visits would be the first since the United States ended formal diplomatic relations with Taiwan in 1979 and established ties with Beijing. Chinese Foreign Ministry spokesman Lu Kang said while the Taiwan sections of the law were not legally binding, they seriously violate the  One China  policy and  constitute an interference in China s internal affairs .   China is resolutely opposed to this, and we have already lodged stern representations with the U.S. government,  Lu told a daily news briefing. China is firmly opposed to any official exchanges, military contact, or arms sales between Taiwan and the United States, he added.  Proudly democratic Taiwan has become increasingly concerned with the ramped up Chinese military presence, that has included several rounds of Chinese air force drills around the island in recent months.  Taiwan is confident of its defenses and responded quickly to the Chinese air force drills this week, its government said, denouncing the rise in China s military deployments as irresponsible. Taiwan presidential spokesman Alex Huang, speaking to Taiwan media in comments reported late on Wednesday, said the defense ministry had kept a close watch on the patrols and responded immediately and properly. Taiwan  can ensure there are no concerns at all about national security, and people can rest assured , Huang said. Both sides of the narrow Taiwan Strait, which separates Taiwan from its giant neighbor, have a responsibility to protect peace and stability, he added.  Such a raised military posture that may impact upon and harm regional peace and stability and cross-strait ties does not give a feeling of responsibility, and the international community does not look favorably upon this,  Huang was quoted as saying. Relations have soured considerably since Tsai Ing-wen, who leads Taiwan s independence-leaning Democratic Progressive Party, won presidential elections last year. China suspects Tsai wants to declare the island s formal independence, a red line for Beijing. Tsai says she wants to maintain peace with China but will defend Taiwan s security. Taiwan is well equipped with mostly U.S. weapons but has been pressing for more advanced equipment to deal with what it sees as a rising threat from China. The United States is bound by law to provide the island with the means to defend itself. China has never renounced the use of force to bring Taiwan under its control. \"\n        ],\n        \"semantic_type\": \"\",\n        \"description\": \"\"\n      }\n    },\n    {\n      \"column\": \"date\",\n      \"properties\": {\n        \"dtype\": \"object\",\n        \"num_unique_values\": 716,\n        \"samples\": [\n          \"September 2, 2017 \",\n          \"February 2, 2017 \",\n          \"November 24, 2017 \"\n        ],\n        \"semantic_type\": \"\",\n        \"description\": \"\"\n      }\n    }\n  ]\n}"
            }
          },
          "metadata": {},
          "execution_count": 6
        }
      ],
      "source": [
        "# Inspect the DataFrame with True News to understand the given data\n",
        "true_df.head()\n"
      ]
    },
    {
      "cell_type": "code",
      "execution_count": 7,
      "metadata": {
        "id": "gI7X0Voh6h7r",
        "colab": {
          "base_uri": "https://localhost:8080/",
          "height": 206
        },
        "outputId": "b5e3ffc7-fda2-411b-f1b2-5b729048b64b"
      },
      "outputs": [
        {
          "output_type": "execute_result",
          "data": {
            "text/plain": [
              "                                               title  \\\n",
              "0   Donald Trump Sends Out Embarrassing New Year’...   \n",
              "1   Drunk Bragging Trump Staffer Started Russian ...   \n",
              "2   Sheriff David Clarke Becomes An Internet Joke...   \n",
              "3   Trump Is So Obsessed He Even Has Obama’s Name...   \n",
              "4   Pope Francis Just Called Out Donald Trump Dur...   \n",
              "\n",
              "                                                text               date  \n",
              "0  Donald Trump just couldn t wish all Americans ...  December 31, 2017  \n",
              "1  House Intelligence Committee Chairman Devin Nu...  December 31, 2017  \n",
              "2  On Friday, it was revealed that former Milwauk...  December 30, 2017  \n",
              "3  On Christmas day, Donald Trump announced that ...  December 29, 2017  \n",
              "4  Pope Francis used his annual Christmas Day mes...  December 25, 2017  "
            ],
            "text/html": [
              "\n",
              "  <div id=\"df-53ef6cbb-cf18-4783-8e36-e8aca15d38d4\" class=\"colab-df-container\">\n",
              "    <div>\n",
              "<style scoped>\n",
              "    .dataframe tbody tr th:only-of-type {\n",
              "        vertical-align: middle;\n",
              "    }\n",
              "\n",
              "    .dataframe tbody tr th {\n",
              "        vertical-align: top;\n",
              "    }\n",
              "\n",
              "    .dataframe thead th {\n",
              "        text-align: right;\n",
              "    }\n",
              "</style>\n",
              "<table border=\"1\" class=\"dataframe\">\n",
              "  <thead>\n",
              "    <tr style=\"text-align: right;\">\n",
              "      <th></th>\n",
              "      <th>title</th>\n",
              "      <th>text</th>\n",
              "      <th>date</th>\n",
              "    </tr>\n",
              "  </thead>\n",
              "  <tbody>\n",
              "    <tr>\n",
              "      <th>0</th>\n",
              "      <td>Donald Trump Sends Out Embarrassing New Year’...</td>\n",
              "      <td>Donald Trump just couldn t wish all Americans ...</td>\n",
              "      <td>December 31, 2017</td>\n",
              "    </tr>\n",
              "    <tr>\n",
              "      <th>1</th>\n",
              "      <td>Drunk Bragging Trump Staffer Started Russian ...</td>\n",
              "      <td>House Intelligence Committee Chairman Devin Nu...</td>\n",
              "      <td>December 31, 2017</td>\n",
              "    </tr>\n",
              "    <tr>\n",
              "      <th>2</th>\n",
              "      <td>Sheriff David Clarke Becomes An Internet Joke...</td>\n",
              "      <td>On Friday, it was revealed that former Milwauk...</td>\n",
              "      <td>December 30, 2017</td>\n",
              "    </tr>\n",
              "    <tr>\n",
              "      <th>3</th>\n",
              "      <td>Trump Is So Obsessed He Even Has Obama’s Name...</td>\n",
              "      <td>On Christmas day, Donald Trump announced that ...</td>\n",
              "      <td>December 29, 2017</td>\n",
              "    </tr>\n",
              "    <tr>\n",
              "      <th>4</th>\n",
              "      <td>Pope Francis Just Called Out Donald Trump Dur...</td>\n",
              "      <td>Pope Francis used his annual Christmas Day mes...</td>\n",
              "      <td>December 25, 2017</td>\n",
              "    </tr>\n",
              "  </tbody>\n",
              "</table>\n",
              "</div>\n",
              "    <div class=\"colab-df-buttons\">\n",
              "\n",
              "  <div class=\"colab-df-container\">\n",
              "    <button class=\"colab-df-convert\" onclick=\"convertToInteractive('df-53ef6cbb-cf18-4783-8e36-e8aca15d38d4')\"\n",
              "            title=\"Convert this dataframe to an interactive table.\"\n",
              "            style=\"display:none;\">\n",
              "\n",
              "  <svg xmlns=\"http://www.w3.org/2000/svg\" height=\"24px\" viewBox=\"0 -960 960 960\">\n",
              "    <path d=\"M120-120v-720h720v720H120Zm60-500h600v-160H180v160Zm220 220h160v-160H400v160Zm0 220h160v-160H400v160ZM180-400h160v-160H180v160Zm440 0h160v-160H620v160ZM180-180h160v-160H180v160Zm440 0h160v-160H620v160Z\"/>\n",
              "  </svg>\n",
              "    </button>\n",
              "\n",
              "  <style>\n",
              "    .colab-df-container {\n",
              "      display:flex;\n",
              "      gap: 12px;\n",
              "    }\n",
              "\n",
              "    .colab-df-convert {\n",
              "      background-color: #E8F0FE;\n",
              "      border: none;\n",
              "      border-radius: 50%;\n",
              "      cursor: pointer;\n",
              "      display: none;\n",
              "      fill: #1967D2;\n",
              "      height: 32px;\n",
              "      padding: 0 0 0 0;\n",
              "      width: 32px;\n",
              "    }\n",
              "\n",
              "    .colab-df-convert:hover {\n",
              "      background-color: #E2EBFA;\n",
              "      box-shadow: 0px 1px 2px rgba(60, 64, 67, 0.3), 0px 1px 3px 1px rgba(60, 64, 67, 0.15);\n",
              "      fill: #174EA6;\n",
              "    }\n",
              "\n",
              "    .colab-df-buttons div {\n",
              "      margin-bottom: 4px;\n",
              "    }\n",
              "\n",
              "    [theme=dark] .colab-df-convert {\n",
              "      background-color: #3B4455;\n",
              "      fill: #D2E3FC;\n",
              "    }\n",
              "\n",
              "    [theme=dark] .colab-df-convert:hover {\n",
              "      background-color: #434B5C;\n",
              "      box-shadow: 0px 1px 3px 1px rgba(0, 0, 0, 0.15);\n",
              "      filter: drop-shadow(0px 1px 2px rgba(0, 0, 0, 0.3));\n",
              "      fill: #FFFFFF;\n",
              "    }\n",
              "  </style>\n",
              "\n",
              "    <script>\n",
              "      const buttonEl =\n",
              "        document.querySelector('#df-53ef6cbb-cf18-4783-8e36-e8aca15d38d4 button.colab-df-convert');\n",
              "      buttonEl.style.display =\n",
              "        google.colab.kernel.accessAllowed ? 'block' : 'none';\n",
              "\n",
              "      async function convertToInteractive(key) {\n",
              "        const element = document.querySelector('#df-53ef6cbb-cf18-4783-8e36-e8aca15d38d4');\n",
              "        const dataTable =\n",
              "          await google.colab.kernel.invokeFunction('convertToInteractive',\n",
              "                                                    [key], {});\n",
              "        if (!dataTable) return;\n",
              "\n",
              "        const docLinkHtml = 'Like what you see? Visit the ' +\n",
              "          '<a target=\"_blank\" href=https://colab.research.google.com/notebooks/data_table.ipynb>data table notebook</a>'\n",
              "          + ' to learn more about interactive tables.';\n",
              "        element.innerHTML = '';\n",
              "        dataTable['output_type'] = 'display_data';\n",
              "        await google.colab.output.renderOutput(dataTable, element);\n",
              "        const docLink = document.createElement('div');\n",
              "        docLink.innerHTML = docLinkHtml;\n",
              "        element.appendChild(docLink);\n",
              "      }\n",
              "    </script>\n",
              "  </div>\n",
              "\n",
              "\n",
              "    <div id=\"df-59da5c57-9652-4a29-8846-1f8010cf423d\">\n",
              "      <button class=\"colab-df-quickchart\" onclick=\"quickchart('df-59da5c57-9652-4a29-8846-1f8010cf423d')\"\n",
              "                title=\"Suggest charts\"\n",
              "                style=\"display:none;\">\n",
              "\n",
              "<svg xmlns=\"http://www.w3.org/2000/svg\" height=\"24px\"viewBox=\"0 0 24 24\"\n",
              "     width=\"24px\">\n",
              "    <g>\n",
              "        <path d=\"M19 3H5c-1.1 0-2 .9-2 2v14c0 1.1.9 2 2 2h14c1.1 0 2-.9 2-2V5c0-1.1-.9-2-2-2zM9 17H7v-7h2v7zm4 0h-2V7h2v10zm4 0h-2v-4h2v4z\"/>\n",
              "    </g>\n",
              "</svg>\n",
              "      </button>\n",
              "\n",
              "<style>\n",
              "  .colab-df-quickchart {\n",
              "      --bg-color: #E8F0FE;\n",
              "      --fill-color: #1967D2;\n",
              "      --hover-bg-color: #E2EBFA;\n",
              "      --hover-fill-color: #174EA6;\n",
              "      --disabled-fill-color: #AAA;\n",
              "      --disabled-bg-color: #DDD;\n",
              "  }\n",
              "\n",
              "  [theme=dark] .colab-df-quickchart {\n",
              "      --bg-color: #3B4455;\n",
              "      --fill-color: #D2E3FC;\n",
              "      --hover-bg-color: #434B5C;\n",
              "      --hover-fill-color: #FFFFFF;\n",
              "      --disabled-bg-color: #3B4455;\n",
              "      --disabled-fill-color: #666;\n",
              "  }\n",
              "\n",
              "  .colab-df-quickchart {\n",
              "    background-color: var(--bg-color);\n",
              "    border: none;\n",
              "    border-radius: 50%;\n",
              "    cursor: pointer;\n",
              "    display: none;\n",
              "    fill: var(--fill-color);\n",
              "    height: 32px;\n",
              "    padding: 0;\n",
              "    width: 32px;\n",
              "  }\n",
              "\n",
              "  .colab-df-quickchart:hover {\n",
              "    background-color: var(--hover-bg-color);\n",
              "    box-shadow: 0 1px 2px rgba(60, 64, 67, 0.3), 0 1px 3px 1px rgba(60, 64, 67, 0.15);\n",
              "    fill: var(--button-hover-fill-color);\n",
              "  }\n",
              "\n",
              "  .colab-df-quickchart-complete:disabled,\n",
              "  .colab-df-quickchart-complete:disabled:hover {\n",
              "    background-color: var(--disabled-bg-color);\n",
              "    fill: var(--disabled-fill-color);\n",
              "    box-shadow: none;\n",
              "  }\n",
              "\n",
              "  .colab-df-spinner {\n",
              "    border: 2px solid var(--fill-color);\n",
              "    border-color: transparent;\n",
              "    border-bottom-color: var(--fill-color);\n",
              "    animation:\n",
              "      spin 1s steps(1) infinite;\n",
              "  }\n",
              "\n",
              "  @keyframes spin {\n",
              "    0% {\n",
              "      border-color: transparent;\n",
              "      border-bottom-color: var(--fill-color);\n",
              "      border-left-color: var(--fill-color);\n",
              "    }\n",
              "    20% {\n",
              "      border-color: transparent;\n",
              "      border-left-color: var(--fill-color);\n",
              "      border-top-color: var(--fill-color);\n",
              "    }\n",
              "    30% {\n",
              "      border-color: transparent;\n",
              "      border-left-color: var(--fill-color);\n",
              "      border-top-color: var(--fill-color);\n",
              "      border-right-color: var(--fill-color);\n",
              "    }\n",
              "    40% {\n",
              "      border-color: transparent;\n",
              "      border-right-color: var(--fill-color);\n",
              "      border-top-color: var(--fill-color);\n",
              "    }\n",
              "    60% {\n",
              "      border-color: transparent;\n",
              "      border-right-color: var(--fill-color);\n",
              "    }\n",
              "    80% {\n",
              "      border-color: transparent;\n",
              "      border-right-color: var(--fill-color);\n",
              "      border-bottom-color: var(--fill-color);\n",
              "    }\n",
              "    90% {\n",
              "      border-color: transparent;\n",
              "      border-bottom-color: var(--fill-color);\n",
              "    }\n",
              "  }\n",
              "</style>\n",
              "\n",
              "      <script>\n",
              "        async function quickchart(key) {\n",
              "          const quickchartButtonEl =\n",
              "            document.querySelector('#' + key + ' button');\n",
              "          quickchartButtonEl.disabled = true;  // To prevent multiple clicks.\n",
              "          quickchartButtonEl.classList.add('colab-df-spinner');\n",
              "          try {\n",
              "            const charts = await google.colab.kernel.invokeFunction(\n",
              "                'suggestCharts', [key], {});\n",
              "          } catch (error) {\n",
              "            console.error('Error during call to suggestCharts:', error);\n",
              "          }\n",
              "          quickchartButtonEl.classList.remove('colab-df-spinner');\n",
              "          quickchartButtonEl.classList.add('colab-df-quickchart-complete');\n",
              "        }\n",
              "        (() => {\n",
              "          let quickchartButtonEl =\n",
              "            document.querySelector('#df-59da5c57-9652-4a29-8846-1f8010cf423d button');\n",
              "          quickchartButtonEl.style.display =\n",
              "            google.colab.kernel.accessAllowed ? 'block' : 'none';\n",
              "        })();\n",
              "      </script>\n",
              "    </div>\n",
              "\n",
              "    </div>\n",
              "  </div>\n"
            ],
            "application/vnd.google.colaboratory.intrinsic+json": {
              "type": "dataframe",
              "variable_name": "fake_df",
              "summary": "{\n  \"name\": \"fake_df\",\n  \"rows\": 23523,\n  \"fields\": [\n    {\n      \"column\": \"title\",\n      \"properties\": {\n        \"dtype\": \"string\",\n        \"num_unique_values\": 17914,\n        \"samples\": [\n          \" Former U.N. Ambassador Makes CRAZY Accusation Against Obama Over Russian Hacks\",\n          \"LOL! FAKE INDIAN Elizabeth Warren Returns DNA Kit REAL INDIAN GOP Senate Challenger Sent As Birthday Gift\",\n          \"WHOA! Did Donald Trump Just Imply Obama Is Working On Behalf Of Muslim Terrorists? [VIDEO]\"\n        ],\n        \"semantic_type\": \"\",\n        \"description\": \"\"\n      }\n    },\n    {\n      \"column\": \"text\",\n      \"properties\": {\n        \"dtype\": \"string\",\n        \"num_unique_values\": 17466,\n        \"samples\": [\n          \"21st Century Wire says In so many respects,  our  media is not our own.In the past, 21WIRE has detailed various aspects of Operation Mockingbird and other CIA-related media pursuits, as well as many other bogus news stories which appear on a regular basis.Claire Danes as Carrie Mathison in Homeland (Season 4, PR Art).   Photo: Jim Fiscus/SHOWTIME Previously, we showed how the Hollywood hit ZeroDarkThirty was a completely fabricated piece of fiction which was passed on to the public as a  true story . Also, the popular TV series, Homeland, is one of the most obvious propaganda productions in recent years, designed to reinforce many flawed assumptions and false believes about the world outside of the United States.Did you know that the CIA has actually produced a number of high-profile  history  TV programs that appear on US and world media channels?Yes, it s true SputnikThe Central Intelligence Agency (CIA) has a finger in every pie including  the entertainment business: it turns out that the CIA has played a role in producing at least 22 entertainment projects; investigative journalist Adam Johnson argues that by doing this the US intelligence agency puts American media workers at risk.It seems that the US Central Intelligence Agency follows the theory that says that there are no little or insignificant things.  The intelligence agency has long been keeping an eye on the Western entertainment industry and has even had a role in producing popular fiction movies and documentaries.In his article for Fair.org media watchdog investigative journalist Adam Johnson argues that this type of collaboration may cast a shadow over the image of US media workers and even put them at risk. For years, artists from across the entertainment industry  actors, authors, directors, producers, screenwriters, and others  have been in touch with the CIA to gain a better understanding of our intelligence mission,  the CIA public website reads.According to the website, the CIA s goal in engaging with the industry is to ensure  an accurate portrayal of the men and women of the CIA, and the skill, innovation, daring, and commitment to public service that defines them. Continue this article at Sputnik NewsREAD MORE HOLLYWOOD NEWS AT: 21st Century Wire Hollywood Files \",\n          \"CNN host Kate Bolduan sat quietly as a conservative radio host lied his ass off during an interview and then humiliated him so bad he was nearly speechless.On Friday, Jan Chamberlin released a statement announcing her resignation from the Mormon Tabernacle Choir she loved for many years. I have highly valued the mission of the Choir to be good-will ambassadors for Christ, to share beautiful music and to give hope, inspiration, and comfort to others,  she wrote, explaining why she refuses to sing for Donald Trump on Inauguration Day. I ve tried to tell myself that it will be alright and that I can continue in good conscience before God and man. But it s no use. I simply cannot continue with the recent turn of events. I could never look myself in the mirror again with self respect. I also know, looking from the outside in, it will appear that Choir is endorsing tyranny and fascism by singing for this man. Tyranny is now on our doorstep,  she continued.  I only know I could never  throw roses to Hitler.  And I certainly could never sing for him. Predictably, conservatives threw a collective hissy fit and have sent threats and hateful messages to Chamberlin.And right-wing radio host Ben Ferguson threw his own temper tantrum on live television.Ferguson smeared Chamberlin as a hypocrite and claimed that she sang with the choir at President Obama s inauguration, and viciously criticized her throughout his rant. Was the choir endorsing abortion when they sang when Barack Obama was inaugurated?  he began.  Because he s in favor of abortion. I think that would be something, obviously, she just stepped out from if she s going to claim this holy high ground now. This is nothing but a grandstanding individual who doesn t get her way so she says I m going to walk away. There are 360 people in the choir. Not all are going to be traveling. More importantly than that when it comes to religion you would think she may actually want to have influence over people that are about to run the government and have peace and harmony which is what the Tabernacle Choir claims to be about. This is nothing but self-righteous grandstanding from a crybaby who never grew up. And guess what? Not everyone believes everything you believe in. It seemed like Bolduan had just let Ferguson get away with slandering Chamberlin and the Mormon Tabernacle Choir. In fact, the segment continued as Symone Sanders defended Chamberlin against Ferguson s attack but his blatant lie remained unchallenged.But at the end of the segment, Bolduan finally pounced and informed Ferguson that the Mormon Tabernacle Choir never actually performed at President Obama s inauguration.Clearly busted, all Ferguson could manage to utter was,  Well, there you go. Here s the video via YouTube.It s not enough to call out lies. It s time to punish pundits who blatantly lie on the air like Ferguson did. Facts matter and if we want to make sure facts continue to matter, we need to pressure the media to keep people who lie off the air. If they can t be bothered to tell the truth, they have no business being given a platform to spread their bullshit.Featured image via screenshot\",\n          \"The unexpected passing of Justice Antonin Scalia has added yet another layer to the incompetence Republicans display when it comes to governing. This time, however, it s not about a spending issue or an executive order they don t like; there s no looming shutdown or invented ebola crisis. This time, the GOP is threatening the very core of our democracy.Rachel Maddow is without a doubt one of the most brilliant and influential political minds of our time. Her thoughts are insightful and her opinions intertwined with logic and reason. In other words, she s the Anti-Hannity or O Reilly, Limbaugh, Beck or any other of a host of propagandists spewing the lie of the day.In this segment, Maddow breaks down why Republican obstruction of an Obama Supreme Court nominee is not only incredibly arrogant, it s also very dangerous for us as a nation. Our democracy is built on a government of three branches. When one of those branches can t function because of the ongoing threat of a tie, anything from abortion law to gun control and yes, even the outcome of a presidential election could hang in the balance.Watch Rachel Maddow make a case for just how dangerous it is to go into a national election with a vacant seat on the Supreme Court:Many of us wake up in a cold sweat after nightmares of the outcome of the 2000 election. The Supreme Court was ultimately left to decide the fate of American politics for the next four years and the result was disastrous. But, there was a result.What would happen if there was a 4-4 tie in the Supreme Court after a state like Florida was contested? The decision would then revert back to the lower court s decision, which had already been accepted for review by the higher court.The resulting circle of legal quagmire could leave us facing severe consequences, especially when Republicans figure out they can send their appeals strategically to lower court judges they know will side with them automatically.Without the 9th seat on the Supreme Court filled we can expect legal battles to arise in districts where there should be none, simply because the judges of that circuit will be able to negate the wishes of the people with no recourse from the high court.And the kooks of the right think Obama had a good reason to have Scalia assassinated?Featured image from screen capture \"\n        ],\n        \"semantic_type\": \"\",\n        \"description\": \"\"\n      }\n    },\n    {\n      \"column\": \"date\",\n      \"properties\": {\n        \"dtype\": \"category\",\n        \"num_unique_values\": 1692,\n        \"samples\": [\n          \"Mar 17, 2017\",\n          \"May 6, 2015\",\n          \"Aug 2, 2016\"\n        ],\n        \"semantic_type\": \"\",\n        \"description\": \"\"\n      }\n    }\n  ]\n}"
            }
          },
          "metadata": {},
          "execution_count": 7
        }
      ],
      "source": [
        "# Inspect the DataFrame with Fake News to understand the given data\n",
        "fake_df.head()"
      ]
    },
    {
      "cell_type": "code",
      "execution_count": 8,
      "metadata": {
        "id": "Dwcty-wmJrFw",
        "colab": {
          "base_uri": "https://localhost:8080/"
        },
        "outputId": "72988244-b566-4551-ec1b-1dd9ae37fa80"
      },
      "outputs": [
        {
          "output_type": "stream",
          "name": "stdout",
          "text": [
            "<class 'pandas.core.frame.DataFrame'>\n",
            "RangeIndex: 21417 entries, 0 to 21416\n",
            "Data columns (total 3 columns):\n",
            " #   Column  Non-Null Count  Dtype \n",
            "---  ------  --------------  ----- \n",
            " 0   title   21417 non-null  object\n",
            " 1   text    21417 non-null  object\n",
            " 2   date    21417 non-null  object\n",
            "dtypes: object(3)\n",
            "memory usage: 502.1+ KB\n"
          ]
        }
      ],
      "source": [
        "# Print the column details for True News DataFrame\n",
        "true_df.info()"
      ]
    },
    {
      "cell_type": "code",
      "execution_count": 9,
      "metadata": {
        "id": "EPLAnUMjjzQ4",
        "colab": {
          "base_uri": "https://localhost:8080/"
        },
        "outputId": "a6d9ab02-9a84-4a77-f7b7-b72f593ba77f"
      },
      "outputs": [
        {
          "output_type": "stream",
          "name": "stdout",
          "text": [
            "<class 'pandas.core.frame.DataFrame'>\n",
            "RangeIndex: 23523 entries, 0 to 23522\n",
            "Data columns (total 3 columns):\n",
            " #   Column  Non-Null Count  Dtype \n",
            "---  ------  --------------  ----- \n",
            " 0   title   23502 non-null  object\n",
            " 1   text    23502 non-null  object\n",
            " 2   date    23481 non-null  object\n",
            "dtypes: object(3)\n",
            "memory usage: 551.4+ KB\n"
          ]
        }
      ],
      "source": [
        "# Print the column details for Fake News Dataframe\n",
        "fake_df.info()"
      ]
    },
    {
      "cell_type": "code",
      "execution_count": 11,
      "metadata": {
        "id": "dyuDFzPkI67B",
        "colab": {
          "base_uri": "https://localhost:8080/"
        },
        "outputId": "e4c8ff89-2cff-4f1a-ffee-e0f410e437b6"
      },
      "outputs": [
        {
          "output_type": "stream",
          "name": "stdout",
          "text": [
            "Column names in True News DataFrame: Index(['title', 'text', 'date'], dtype='object')\n",
            "Column names in Fake News DataFrame: Index(['title', 'text', 'date'], dtype='object')\n"
          ]
        }
      ],
      "source": [
        "# Print the column names of both DataFrames\n",
        "\n",
        "print(f\"Column names in True News DataFrame: {true_df.columns}\")\n",
        "print(f\"Column names in Fake News DataFrame: {fake_df.columns}\")"
      ]
    },
    {
      "cell_type": "markdown",
      "metadata": {
        "id": "h2fff1S7hq5h"
      },
      "source": [
        "### **1.1** Add new column  <font color = red>[3 marks]</font> <br>\n",
        "\n",
        "Add new column `news_label` to both the DataFrames and assign labels"
      ]
    },
    {
      "cell_type": "code",
      "execution_count": 14,
      "metadata": {
        "id": "YOu_KhbH78du"
      },
      "outputs": [],
      "source": [
        "# Add a new column 'news_label' to the true news DataFrame and assign the label \"1\" to indicate that these news are true\n",
        "true_df['news_label'] = 1\n",
        "# Add a new column 'news_label' to the fake news DataFrame and assign the label \"0\" to indicate that these news are fake\n",
        "fake_df['news_label'] = 0"
      ]
    },
    {
      "cell_type": "markdown",
      "metadata": {
        "id": "UShuo3h54DAh"
      },
      "source": [
        "### **1.2** Merge DataFrames  <font color = red>[2 marks]</font> <br>\n",
        "\n",
        "Create a new Dataframe by merging True and Fake DataFrames"
      ]
    },
    {
      "cell_type": "code",
      "execution_count": 16,
      "metadata": {
        "id": "5GX_QMy04M4-"
      },
      "outputs": [],
      "source": [
        "# Combine the true and fake news DataFrames into a single DataFrame\n",
        "\n",
        "news_df = pd.concat([true_df, fake_df], ignore_index=True)\n"
      ]
    },
    {
      "cell_type": "code",
      "execution_count": 18,
      "metadata": {
        "id": "FYCtKXD1JrFw",
        "colab": {
          "base_uri": "https://localhost:8080/",
          "height": 206
        },
        "outputId": "ab0b530d-88b8-4dad-f037-7afc9c6e607c"
      },
      "outputs": [
        {
          "output_type": "execute_result",
          "data": {
            "text/plain": [
              "                                               title  \\\n",
              "0  As U.S. budget fight looms, Republicans flip t...   \n",
              "1  U.S. military to accept transgender recruits o...   \n",
              "2  Senior U.S. Republican senator: 'Let Mr. Muell...   \n",
              "3  FBI Russia probe helped by Australian diplomat...   \n",
              "4  Trump wants Postal Service to charge 'much mor...   \n",
              "\n",
              "                                                text                date  \\\n",
              "0  WASHINGTON (Reuters) - The head of a conservat...  December 31, 2017    \n",
              "1  WASHINGTON (Reuters) - Transgender people will...  December 29, 2017    \n",
              "2  WASHINGTON (Reuters) - The special counsel inv...  December 31, 2017    \n",
              "3  WASHINGTON (Reuters) - Trump campaign adviser ...  December 30, 2017    \n",
              "4  SEATTLE/WASHINGTON (Reuters) - President Donal...  December 29, 2017    \n",
              "\n",
              "   news_label  \n",
              "0           1  \n",
              "1           1  \n",
              "2           1  \n",
              "3           1  \n",
              "4           1  "
            ],
            "text/html": [
              "\n",
              "  <div id=\"df-4b63e278-04cb-43a2-87fc-4714008655f2\" class=\"colab-df-container\">\n",
              "    <div>\n",
              "<style scoped>\n",
              "    .dataframe tbody tr th:only-of-type {\n",
              "        vertical-align: middle;\n",
              "    }\n",
              "\n",
              "    .dataframe tbody tr th {\n",
              "        vertical-align: top;\n",
              "    }\n",
              "\n",
              "    .dataframe thead th {\n",
              "        text-align: right;\n",
              "    }\n",
              "</style>\n",
              "<table border=\"1\" class=\"dataframe\">\n",
              "  <thead>\n",
              "    <tr style=\"text-align: right;\">\n",
              "      <th></th>\n",
              "      <th>title</th>\n",
              "      <th>text</th>\n",
              "      <th>date</th>\n",
              "      <th>news_label</th>\n",
              "    </tr>\n",
              "  </thead>\n",
              "  <tbody>\n",
              "    <tr>\n",
              "      <th>0</th>\n",
              "      <td>As U.S. budget fight looms, Republicans flip t...</td>\n",
              "      <td>WASHINGTON (Reuters) - The head of a conservat...</td>\n",
              "      <td>December 31, 2017</td>\n",
              "      <td>1</td>\n",
              "    </tr>\n",
              "    <tr>\n",
              "      <th>1</th>\n",
              "      <td>U.S. military to accept transgender recruits o...</td>\n",
              "      <td>WASHINGTON (Reuters) - Transgender people will...</td>\n",
              "      <td>December 29, 2017</td>\n",
              "      <td>1</td>\n",
              "    </tr>\n",
              "    <tr>\n",
              "      <th>2</th>\n",
              "      <td>Senior U.S. Republican senator: 'Let Mr. Muell...</td>\n",
              "      <td>WASHINGTON (Reuters) - The special counsel inv...</td>\n",
              "      <td>December 31, 2017</td>\n",
              "      <td>1</td>\n",
              "    </tr>\n",
              "    <tr>\n",
              "      <th>3</th>\n",
              "      <td>FBI Russia probe helped by Australian diplomat...</td>\n",
              "      <td>WASHINGTON (Reuters) - Trump campaign adviser ...</td>\n",
              "      <td>December 30, 2017</td>\n",
              "      <td>1</td>\n",
              "    </tr>\n",
              "    <tr>\n",
              "      <th>4</th>\n",
              "      <td>Trump wants Postal Service to charge 'much mor...</td>\n",
              "      <td>SEATTLE/WASHINGTON (Reuters) - President Donal...</td>\n",
              "      <td>December 29, 2017</td>\n",
              "      <td>1</td>\n",
              "    </tr>\n",
              "  </tbody>\n",
              "</table>\n",
              "</div>\n",
              "    <div class=\"colab-df-buttons\">\n",
              "\n",
              "  <div class=\"colab-df-container\">\n",
              "    <button class=\"colab-df-convert\" onclick=\"convertToInteractive('df-4b63e278-04cb-43a2-87fc-4714008655f2')\"\n",
              "            title=\"Convert this dataframe to an interactive table.\"\n",
              "            style=\"display:none;\">\n",
              "\n",
              "  <svg xmlns=\"http://www.w3.org/2000/svg\" height=\"24px\" viewBox=\"0 -960 960 960\">\n",
              "    <path d=\"M120-120v-720h720v720H120Zm60-500h600v-160H180v160Zm220 220h160v-160H400v160Zm0 220h160v-160H400v160ZM180-400h160v-160H180v160Zm440 0h160v-160H620v160ZM180-180h160v-160H180v160Zm440 0h160v-160H620v160Z\"/>\n",
              "  </svg>\n",
              "    </button>\n",
              "\n",
              "  <style>\n",
              "    .colab-df-container {\n",
              "      display:flex;\n",
              "      gap: 12px;\n",
              "    }\n",
              "\n",
              "    .colab-df-convert {\n",
              "      background-color: #E8F0FE;\n",
              "      border: none;\n",
              "      border-radius: 50%;\n",
              "      cursor: pointer;\n",
              "      display: none;\n",
              "      fill: #1967D2;\n",
              "      height: 32px;\n",
              "      padding: 0 0 0 0;\n",
              "      width: 32px;\n",
              "    }\n",
              "\n",
              "    .colab-df-convert:hover {\n",
              "      background-color: #E2EBFA;\n",
              "      box-shadow: 0px 1px 2px rgba(60, 64, 67, 0.3), 0px 1px 3px 1px rgba(60, 64, 67, 0.15);\n",
              "      fill: #174EA6;\n",
              "    }\n",
              "\n",
              "    .colab-df-buttons div {\n",
              "      margin-bottom: 4px;\n",
              "    }\n",
              "\n",
              "    [theme=dark] .colab-df-convert {\n",
              "      background-color: #3B4455;\n",
              "      fill: #D2E3FC;\n",
              "    }\n",
              "\n",
              "    [theme=dark] .colab-df-convert:hover {\n",
              "      background-color: #434B5C;\n",
              "      box-shadow: 0px 1px 3px 1px rgba(0, 0, 0, 0.15);\n",
              "      filter: drop-shadow(0px 1px 2px rgba(0, 0, 0, 0.3));\n",
              "      fill: #FFFFFF;\n",
              "    }\n",
              "  </style>\n",
              "\n",
              "    <script>\n",
              "      const buttonEl =\n",
              "        document.querySelector('#df-4b63e278-04cb-43a2-87fc-4714008655f2 button.colab-df-convert');\n",
              "      buttonEl.style.display =\n",
              "        google.colab.kernel.accessAllowed ? 'block' : 'none';\n",
              "\n",
              "      async function convertToInteractive(key) {\n",
              "        const element = document.querySelector('#df-4b63e278-04cb-43a2-87fc-4714008655f2');\n",
              "        const dataTable =\n",
              "          await google.colab.kernel.invokeFunction('convertToInteractive',\n",
              "                                                    [key], {});\n",
              "        if (!dataTable) return;\n",
              "\n",
              "        const docLinkHtml = 'Like what you see? Visit the ' +\n",
              "          '<a target=\"_blank\" href=https://colab.research.google.com/notebooks/data_table.ipynb>data table notebook</a>'\n",
              "          + ' to learn more about interactive tables.';\n",
              "        element.innerHTML = '';\n",
              "        dataTable['output_type'] = 'display_data';\n",
              "        await google.colab.output.renderOutput(dataTable, element);\n",
              "        const docLink = document.createElement('div');\n",
              "        docLink.innerHTML = docLinkHtml;\n",
              "        element.appendChild(docLink);\n",
              "      }\n",
              "    </script>\n",
              "  </div>\n",
              "\n",
              "\n",
              "    <div id=\"df-77ebc5ad-d056-402b-ad12-5999e7c87bf8\">\n",
              "      <button class=\"colab-df-quickchart\" onclick=\"quickchart('df-77ebc5ad-d056-402b-ad12-5999e7c87bf8')\"\n",
              "                title=\"Suggest charts\"\n",
              "                style=\"display:none;\">\n",
              "\n",
              "<svg xmlns=\"http://www.w3.org/2000/svg\" height=\"24px\"viewBox=\"0 0 24 24\"\n",
              "     width=\"24px\">\n",
              "    <g>\n",
              "        <path d=\"M19 3H5c-1.1 0-2 .9-2 2v14c0 1.1.9 2 2 2h14c1.1 0 2-.9 2-2V5c0-1.1-.9-2-2-2zM9 17H7v-7h2v7zm4 0h-2V7h2v10zm4 0h-2v-4h2v4z\"/>\n",
              "    </g>\n",
              "</svg>\n",
              "      </button>\n",
              "\n",
              "<style>\n",
              "  .colab-df-quickchart {\n",
              "      --bg-color: #E8F0FE;\n",
              "      --fill-color: #1967D2;\n",
              "      --hover-bg-color: #E2EBFA;\n",
              "      --hover-fill-color: #174EA6;\n",
              "      --disabled-fill-color: #AAA;\n",
              "      --disabled-bg-color: #DDD;\n",
              "  }\n",
              "\n",
              "  [theme=dark] .colab-df-quickchart {\n",
              "      --bg-color: #3B4455;\n",
              "      --fill-color: #D2E3FC;\n",
              "      --hover-bg-color: #434B5C;\n",
              "      --hover-fill-color: #FFFFFF;\n",
              "      --disabled-bg-color: #3B4455;\n",
              "      --disabled-fill-color: #666;\n",
              "  }\n",
              "\n",
              "  .colab-df-quickchart {\n",
              "    background-color: var(--bg-color);\n",
              "    border: none;\n",
              "    border-radius: 50%;\n",
              "    cursor: pointer;\n",
              "    display: none;\n",
              "    fill: var(--fill-color);\n",
              "    height: 32px;\n",
              "    padding: 0;\n",
              "    width: 32px;\n",
              "  }\n",
              "\n",
              "  .colab-df-quickchart:hover {\n",
              "    background-color: var(--hover-bg-color);\n",
              "    box-shadow: 0 1px 2px rgba(60, 64, 67, 0.3), 0 1px 3px 1px rgba(60, 64, 67, 0.15);\n",
              "    fill: var(--button-hover-fill-color);\n",
              "  }\n",
              "\n",
              "  .colab-df-quickchart-complete:disabled,\n",
              "  .colab-df-quickchart-complete:disabled:hover {\n",
              "    background-color: var(--disabled-bg-color);\n",
              "    fill: var(--disabled-fill-color);\n",
              "    box-shadow: none;\n",
              "  }\n",
              "\n",
              "  .colab-df-spinner {\n",
              "    border: 2px solid var(--fill-color);\n",
              "    border-color: transparent;\n",
              "    border-bottom-color: var(--fill-color);\n",
              "    animation:\n",
              "      spin 1s steps(1) infinite;\n",
              "  }\n",
              "\n",
              "  @keyframes spin {\n",
              "    0% {\n",
              "      border-color: transparent;\n",
              "      border-bottom-color: var(--fill-color);\n",
              "      border-left-color: var(--fill-color);\n",
              "    }\n",
              "    20% {\n",
              "      border-color: transparent;\n",
              "      border-left-color: var(--fill-color);\n",
              "      border-top-color: var(--fill-color);\n",
              "    }\n",
              "    30% {\n",
              "      border-color: transparent;\n",
              "      border-left-color: var(--fill-color);\n",
              "      border-top-color: var(--fill-color);\n",
              "      border-right-color: var(--fill-color);\n",
              "    }\n",
              "    40% {\n",
              "      border-color: transparent;\n",
              "      border-right-color: var(--fill-color);\n",
              "      border-top-color: var(--fill-color);\n",
              "    }\n",
              "    60% {\n",
              "      border-color: transparent;\n",
              "      border-right-color: var(--fill-color);\n",
              "    }\n",
              "    80% {\n",
              "      border-color: transparent;\n",
              "      border-right-color: var(--fill-color);\n",
              "      border-bottom-color: var(--fill-color);\n",
              "    }\n",
              "    90% {\n",
              "      border-color: transparent;\n",
              "      border-bottom-color: var(--fill-color);\n",
              "    }\n",
              "  }\n",
              "</style>\n",
              "\n",
              "      <script>\n",
              "        async function quickchart(key) {\n",
              "          const quickchartButtonEl =\n",
              "            document.querySelector('#' + key + ' button');\n",
              "          quickchartButtonEl.disabled = true;  // To prevent multiple clicks.\n",
              "          quickchartButtonEl.classList.add('colab-df-spinner');\n",
              "          try {\n",
              "            const charts = await google.colab.kernel.invokeFunction(\n",
              "                'suggestCharts', [key], {});\n",
              "          } catch (error) {\n",
              "            console.error('Error during call to suggestCharts:', error);\n",
              "          }\n",
              "          quickchartButtonEl.classList.remove('colab-df-spinner');\n",
              "          quickchartButtonEl.classList.add('colab-df-quickchart-complete');\n",
              "        }\n",
              "        (() => {\n",
              "          let quickchartButtonEl =\n",
              "            document.querySelector('#df-77ebc5ad-d056-402b-ad12-5999e7c87bf8 button');\n",
              "          quickchartButtonEl.style.display =\n",
              "            google.colab.kernel.accessAllowed ? 'block' : 'none';\n",
              "        })();\n",
              "      </script>\n",
              "    </div>\n",
              "\n",
              "    </div>\n",
              "  </div>\n"
            ],
            "application/vnd.google.colaboratory.intrinsic+json": {
              "type": "dataframe",
              "variable_name": "news_df",
              "summary": "{\n  \"name\": \"news_df\",\n  \"rows\": 44940,\n  \"fields\": [\n    {\n      \"column\": \"title\",\n      \"properties\": {\n        \"dtype\": \"string\",\n        \"num_unique_values\": 38740,\n        \"samples\": [\n          \"U.S. Treasury adds cash management measures due to debt limit\",\n          \" You\\u2019re Not Going To Believe What Trump Just Stopped A Press Conference For (VIDEO)\",\n          \"Hispanic coalition asks Trump to stop 'attacks'\"\n        ],\n        \"semantic_type\": \"\",\n        \"description\": \"\"\n      }\n    },\n    {\n      \"column\": \"text\",\n      \"properties\": {\n        \"dtype\": \"string\",\n        \"num_unique_values\": 38657,\n        \"samples\": [\n          \"It turns out that there are a few new reasons for Wisconsin to proceed with their recount, and they have nothing to do with Jill Stein s recount petition. Yes, she filed the petition and yes, she paid the fee, but the state needed to do this even without Stein s request. A new analysis in the Washington Post discovered significant voting anomalies in several wards.Trump now leads Hillary by just over 22,000 votes in Wisconsin. The WaPo analysis didn t look at precincts or counties   they looked at wards, which are the smallest unit where votes are counted. This helped create a more detailed picture of what s happening there.Walter Mebane, an associate researcher at the Center for Political Studies and a professor of political science and statistics at the University of Michigan, looked at small wards that used optical scanning technology, and found that certain features in the vote tabulations reveal the possibility that these counts were tampered with.For instance, using a method called  last digit diagnostics,  Mebane found that the tabulations he looked at should have last digits that, when averaged together, show a mean of around 4.5. Lower could mean that the counts were manipulated.In the small wards he looked at where optical scanning tech was used, the last digit diagnostics reveal a mean average much lower than 4.5.Another statistic Mebane looked at was how often the last digit of a vote tabulation was zero, or five. If there are no problems, then the mean average of that variable should be around 0.2. Larger could mean someone was sloppy, and smaller could mean votes were manipulated.In these small wards, that number was significantly smaller than .2 for Hillary, meaning that the vote counts show a last digit of zero or five far less often than they should.He also found evidence of something called  signaling  in the tabulations, which is when fraudsters leave a type of trail that more or less claims credit for the fraud. Mebane points out that this is actually a fairly common tactic amongst fraudsters in Russia.Finally, a simple test revealed something called  multimodality,  which could show that someone was receiving fraudulent votes. These small wards exhibited that anomaly, too.None of this is absolute proof of election fraud or vote fraud in Wisconsin, and Mebane is careful to note that. However, it gives credence to the need for a recount, whatever Jill Stein s motivations are. If nothing else, conducting a thorough recount will lend further legitimacy to our democratic process or concretely reveal problems that need to be fixed. It might also serve to weaken Trump s efforts to undermine our democracy by repeatedly crying  FRAUD!! FRAUD EVERYWHERE!! The recount begins today.Featured image by Darren Hauck via Getty Images\",\n          \"WASHINGTON (Reuters) - Saudi Arabia\\u2019s Deputy Crown Prince Mohammed bin Salman and U.S. President Donald Trump agreed in a meeting on Tuesday that Iran represents a regional security threat, a senior adviser to the deputy crown prince said The adviser also said the talks marked a \\u201chistorical turning point\\u201d in U.S.-Saudi relations. Saudi Arabia had viewed with unease the administration of U.S. President Barack Obama, whom they felt considered Riyadh\\u2019s alliance with Washington less important than negotiating a nuclear deal with Iran in 2015. It has been encouraged by the Trump administration\\u2019s hardline stance on Iran and its nuclear program. \\u201cThe meeting today restored issues to their right path and form a big change in relations between both countries in political, military, security and economic issues,\\u201d the senior adviser said in a statement. \",\n          \"SEOUL (Reuters) - U.S. Secretary of State Rex Tillerson flew to Asia accompanied by only one journalist on his aircraft, a reporter from a website founded by former Republican political operatives, in a departure from decades of practice. Tillerson, who became the top U.S. diplomat under  Republican President Donald Trump in February, traveled to Mexico and Germany last month with a small contingent of journalists, including a \\u201cpool\\u201d reporter who informed colleagues of Tillerson\\u2019s statements or actions. The journalist on Tillerson\\u2019s plane that arrived in Tokyo on Wednesday, Erin McPike of the Independent Journal Review (IJR), was not acting as a pool reporter. State Department Acting Spokesman Mark Toner said in a statement that there was only one seat available on Tillerson\\u2019s plane for media. The department had previously told reporters covering Tillerson\\u2019s trip to South Korea, Japan, and China that he would not be taking reporters on his plane and that they would have to fly commercially, breaking with decades of precedent stretching back to Henry Kissinger. \\u201cIt was decided to take a journalist from an outlet that doesn\\u2019t normally travel with the Secretary of State, as part of an effort to include a broader representation of U.S. media,\\u201d Toner said. \\u201cWe will also make every effort to include a contingent of media on the Secretary\\u2019s plane going forward.\\u201d The State Department originally said that Tillerson could not accommodate the usual contingent of reporters because of space constraints. It also said the decision to travel without reporters was intended to cut costs. News organizations pay the U.S. government for the cost of their travel. The journalists who reported Tillerson\\u2019s landing in Tokyo on Wednesday evening traveled there on commercial flights. Depending on the number of staff Tillerson chose to take to Asia, the Boeing 737 he traveled on could likely have accommodated more than one reporter. The conservative-leaning IJR said in a statement late on Tuesday that the State Department last week offered the seat on Tillerson\\u2019s plane. McPike is a White House correspondent for IJR, and previously reported for CNN, Real Clear Politics, NBC News, and National Journal, according to IJR\\u2019s website when she joined in February. She was also briefly part of the team that covered the 2016 election campaign for Reuters. \\u201cWe don\\u2019t take this opportunity lightly and recognize the controversy surrounding press access for the trip,\\u201d IJR founder and chief executive Alex Skatell said in a statement. In 2014, Skatell told The New York Times he wanted to start a site after observing a gap in reaching \\u201ca more mainstream center-right audience.\\u201d The State Department Correspondents\\u2019 Association said in a statement that it was \\u201cdisappointed\\u201d Tillerson chose to travel to Asia without a full contingent of media \\u201cor even a pool reporter\\u201d and called for access to Tillerson equal to that given by the reporter on the plane during his trip to Asia. Tillerson, a former chief executive with the Exxon Mobil oil  company, faces a tough first trip to Asia seeking to reassure nervous allies facing North Korea\\u2019s growing nuclear and missile threat and press China to do more on perhaps the most serious security challenge confronting Trump. For decades, secretaries of state have nearly always invited media to travel with them. In rare cases, particularly late in a secretary\\u2019s tenure, some news outlets have declined, such as former Secretary John Kerry\\u2019s December 2016 trip to Saudi Arabia. Republican secretaries of state Alexander Haig, George Shultz, James Baker, and Condoleezza Rice routinely took 10 or more journalists on their overseas trips, even to war zones. Before founding IJR, Skatell worked for the National Republican Senatorial Committee and for the Republican Governors Association, according to his LinkedIn profile. Another founder, Phil Musser, was once executive director of the Republican Governors Association and worked in the Department of Housing and Urban Development in the administration of George W. Bush.  \"\n        ],\n        \"semantic_type\": \"\",\n        \"description\": \"\"\n      }\n    },\n    {\n      \"column\": \"date\",\n      \"properties\": {\n        \"dtype\": \"category\",\n        \"num_unique_values\": 2408,\n        \"samples\": [\n          \"Oct 29, 2015\",\n          \"Nov 12, 2015\",\n          \"March 1, 2016\"\n        ],\n        \"semantic_type\": \"\",\n        \"description\": \"\"\n      }\n    },\n    {\n      \"column\": \"news_label\",\n      \"properties\": {\n        \"dtype\": \"number\",\n        \"std\": 0,\n        \"min\": 0,\n        \"max\": 1,\n        \"num_unique_values\": 2,\n        \"samples\": [\n          0,\n          1\n        ],\n        \"semantic_type\": \"\",\n        \"description\": \"\"\n      }\n    }\n  ]\n}"
            }
          },
          "metadata": {},
          "execution_count": 18
        }
      ],
      "source": [
        "# Display the first 5 rows of the combined DataFrame to verify the result\n",
        "\n",
        "news_df.head(5)\n"
      ]
    },
    {
      "cell_type": "markdown",
      "metadata": {
        "id": "IphUaBu3oFZK"
      },
      "source": [
        "### **1.3** Handle the null values  <font color = red>[2 marks]</font> <br>\n",
        "\n",
        "Check for null values and handle it by imputation or dropping the null values"
      ]
    },
    {
      "cell_type": "code",
      "execution_count": 19,
      "metadata": {
        "id": "4FRDxOo6r51j",
        "colab": {
          "base_uri": "https://localhost:8080/",
          "height": 210
        },
        "outputId": "76a41404-6222-41bc-d2c7-bfafb5e8a689"
      },
      "outputs": [
        {
          "output_type": "execute_result",
          "data": {
            "text/plain": [
              "title         0.046729\n",
              "text          0.046729\n",
              "date          0.093458\n",
              "news_label    0.000000\n",
              "dtype: float64"
            ],
            "text/html": [
              "<div>\n",
              "<style scoped>\n",
              "    .dataframe tbody tr th:only-of-type {\n",
              "        vertical-align: middle;\n",
              "    }\n",
              "\n",
              "    .dataframe tbody tr th {\n",
              "        vertical-align: top;\n",
              "    }\n",
              "\n",
              "    .dataframe thead th {\n",
              "        text-align: right;\n",
              "    }\n",
              "</style>\n",
              "<table border=\"1\" class=\"dataframe\">\n",
              "  <thead>\n",
              "    <tr style=\"text-align: right;\">\n",
              "      <th></th>\n",
              "      <th>0</th>\n",
              "    </tr>\n",
              "  </thead>\n",
              "  <tbody>\n",
              "    <tr>\n",
              "      <th>title</th>\n",
              "      <td>0.046729</td>\n",
              "    </tr>\n",
              "    <tr>\n",
              "      <th>text</th>\n",
              "      <td>0.046729</td>\n",
              "    </tr>\n",
              "    <tr>\n",
              "      <th>date</th>\n",
              "      <td>0.093458</td>\n",
              "    </tr>\n",
              "    <tr>\n",
              "      <th>news_label</th>\n",
              "      <td>0.000000</td>\n",
              "    </tr>\n",
              "  </tbody>\n",
              "</table>\n",
              "</div><br><label><b>dtype:</b> float64</label>"
            ]
          },
          "metadata": {},
          "execution_count": 19
        }
      ],
      "source": [
        "# Check Presence of Null Values\n",
        "news_df.isnull().mean()*100\n"
      ]
    },
    {
      "cell_type": "code",
      "execution_count": 20,
      "metadata": {
        "id": "eiwvoyfYr6EB"
      },
      "outputs": [],
      "source": [
        "# Handle Rows with Null Values\n",
        "news_df.dropna(inplace=True)\n"
      ]
    },
    {
      "cell_type": "code",
      "source": [
        "news_df.info()"
      ],
      "metadata": {
        "colab": {
          "base_uri": "https://localhost:8080/"
        },
        "id": "R2TmgxPEg001",
        "outputId": "77f89308-b2f3-4385-a1df-8f8a527fc292"
      },
      "execution_count": 21,
      "outputs": [
        {
          "output_type": "stream",
          "name": "stdout",
          "text": [
            "<class 'pandas.core.frame.DataFrame'>\n",
            "Index: 44898 entries, 0 to 44939\n",
            "Data columns (total 4 columns):\n",
            " #   Column      Non-Null Count  Dtype \n",
            "---  ------      --------------  ----- \n",
            " 0   title       44898 non-null  object\n",
            " 1   text        44898 non-null  object\n",
            " 2   date        44898 non-null  object\n",
            " 3   news_label  44898 non-null  int64 \n",
            "dtypes: int64(1), object(3)\n",
            "memory usage: 1.7+ MB\n"
          ]
        }
      ]
    },
    {
      "cell_type": "markdown",
      "metadata": {
        "id": "kDyPvMITooWA"
      },
      "source": [
        "### **1.4** Merge the relevant columns and drop the rest from the DataFrame  <font color = red>[3 marks]</font> <br>\n",
        "\n",
        "Combine the relevant columns into a new column `news_text` and then drop irrelevant columns from the DataFrame"
      ]
    },
    {
      "cell_type": "code",
      "execution_count": 24,
      "metadata": {
        "id": "u9VI48jS_HTy",
        "colab": {
          "base_uri": "https://localhost:8080/",
          "height": 206
        },
        "outputId": "ee0391ea-b9e0-49c5-e98e-f2a7592e399f"
      },
      "outputs": [
        {
          "output_type": "execute_result",
          "data": {
            "text/plain": [
              "   news_label                                          news_text\n",
              "0           1  As U.S. budget fight looms, Republicans flip t...\n",
              "1           1  U.S. military to accept transgender recruits o...\n",
              "2           1  Senior U.S. Republican senator: 'Let Mr. Muell...\n",
              "3           1  FBI Russia probe helped by Australian diplomat...\n",
              "4           1  Trump wants Postal Service to charge 'much mor..."
            ],
            "text/html": [
              "\n",
              "  <div id=\"df-08c4d7ce-12fe-4db8-8365-a7235d50005a\" class=\"colab-df-container\">\n",
              "    <div>\n",
              "<style scoped>\n",
              "    .dataframe tbody tr th:only-of-type {\n",
              "        vertical-align: middle;\n",
              "    }\n",
              "\n",
              "    .dataframe tbody tr th {\n",
              "        vertical-align: top;\n",
              "    }\n",
              "\n",
              "    .dataframe thead th {\n",
              "        text-align: right;\n",
              "    }\n",
              "</style>\n",
              "<table border=\"1\" class=\"dataframe\">\n",
              "  <thead>\n",
              "    <tr style=\"text-align: right;\">\n",
              "      <th></th>\n",
              "      <th>news_label</th>\n",
              "      <th>news_text</th>\n",
              "    </tr>\n",
              "  </thead>\n",
              "  <tbody>\n",
              "    <tr>\n",
              "      <th>0</th>\n",
              "      <td>1</td>\n",
              "      <td>As U.S. budget fight looms, Republicans flip t...</td>\n",
              "    </tr>\n",
              "    <tr>\n",
              "      <th>1</th>\n",
              "      <td>1</td>\n",
              "      <td>U.S. military to accept transgender recruits o...</td>\n",
              "    </tr>\n",
              "    <tr>\n",
              "      <th>2</th>\n",
              "      <td>1</td>\n",
              "      <td>Senior U.S. Republican senator: 'Let Mr. Muell...</td>\n",
              "    </tr>\n",
              "    <tr>\n",
              "      <th>3</th>\n",
              "      <td>1</td>\n",
              "      <td>FBI Russia probe helped by Australian diplomat...</td>\n",
              "    </tr>\n",
              "    <tr>\n",
              "      <th>4</th>\n",
              "      <td>1</td>\n",
              "      <td>Trump wants Postal Service to charge 'much mor...</td>\n",
              "    </tr>\n",
              "  </tbody>\n",
              "</table>\n",
              "</div>\n",
              "    <div class=\"colab-df-buttons\">\n",
              "\n",
              "  <div class=\"colab-df-container\">\n",
              "    <button class=\"colab-df-convert\" onclick=\"convertToInteractive('df-08c4d7ce-12fe-4db8-8365-a7235d50005a')\"\n",
              "            title=\"Convert this dataframe to an interactive table.\"\n",
              "            style=\"display:none;\">\n",
              "\n",
              "  <svg xmlns=\"http://www.w3.org/2000/svg\" height=\"24px\" viewBox=\"0 -960 960 960\">\n",
              "    <path d=\"M120-120v-720h720v720H120Zm60-500h600v-160H180v160Zm220 220h160v-160H400v160Zm0 220h160v-160H400v160ZM180-400h160v-160H180v160Zm440 0h160v-160H620v160ZM180-180h160v-160H180v160Zm440 0h160v-160H620v160Z\"/>\n",
              "  </svg>\n",
              "    </button>\n",
              "\n",
              "  <style>\n",
              "    .colab-df-container {\n",
              "      display:flex;\n",
              "      gap: 12px;\n",
              "    }\n",
              "\n",
              "    .colab-df-convert {\n",
              "      background-color: #E8F0FE;\n",
              "      border: none;\n",
              "      border-radius: 50%;\n",
              "      cursor: pointer;\n",
              "      display: none;\n",
              "      fill: #1967D2;\n",
              "      height: 32px;\n",
              "      padding: 0 0 0 0;\n",
              "      width: 32px;\n",
              "    }\n",
              "\n",
              "    .colab-df-convert:hover {\n",
              "      background-color: #E2EBFA;\n",
              "      box-shadow: 0px 1px 2px rgba(60, 64, 67, 0.3), 0px 1px 3px 1px rgba(60, 64, 67, 0.15);\n",
              "      fill: #174EA6;\n",
              "    }\n",
              "\n",
              "    .colab-df-buttons div {\n",
              "      margin-bottom: 4px;\n",
              "    }\n",
              "\n",
              "    [theme=dark] .colab-df-convert {\n",
              "      background-color: #3B4455;\n",
              "      fill: #D2E3FC;\n",
              "    }\n",
              "\n",
              "    [theme=dark] .colab-df-convert:hover {\n",
              "      background-color: #434B5C;\n",
              "      box-shadow: 0px 1px 3px 1px rgba(0, 0, 0, 0.15);\n",
              "      filter: drop-shadow(0px 1px 2px rgba(0, 0, 0, 0.3));\n",
              "      fill: #FFFFFF;\n",
              "    }\n",
              "  </style>\n",
              "\n",
              "    <script>\n",
              "      const buttonEl =\n",
              "        document.querySelector('#df-08c4d7ce-12fe-4db8-8365-a7235d50005a button.colab-df-convert');\n",
              "      buttonEl.style.display =\n",
              "        google.colab.kernel.accessAllowed ? 'block' : 'none';\n",
              "\n",
              "      async function convertToInteractive(key) {\n",
              "        const element = document.querySelector('#df-08c4d7ce-12fe-4db8-8365-a7235d50005a');\n",
              "        const dataTable =\n",
              "          await google.colab.kernel.invokeFunction('convertToInteractive',\n",
              "                                                    [key], {});\n",
              "        if (!dataTable) return;\n",
              "\n",
              "        const docLinkHtml = 'Like what you see? Visit the ' +\n",
              "          '<a target=\"_blank\" href=https://colab.research.google.com/notebooks/data_table.ipynb>data table notebook</a>'\n",
              "          + ' to learn more about interactive tables.';\n",
              "        element.innerHTML = '';\n",
              "        dataTable['output_type'] = 'display_data';\n",
              "        await google.colab.output.renderOutput(dataTable, element);\n",
              "        const docLink = document.createElement('div');\n",
              "        docLink.innerHTML = docLinkHtml;\n",
              "        element.appendChild(docLink);\n",
              "      }\n",
              "    </script>\n",
              "  </div>\n",
              "\n",
              "\n",
              "    <div id=\"df-50b4b13d-1366-4063-8a0b-0075f60f5ffa\">\n",
              "      <button class=\"colab-df-quickchart\" onclick=\"quickchart('df-50b4b13d-1366-4063-8a0b-0075f60f5ffa')\"\n",
              "                title=\"Suggest charts\"\n",
              "                style=\"display:none;\">\n",
              "\n",
              "<svg xmlns=\"http://www.w3.org/2000/svg\" height=\"24px\"viewBox=\"0 0 24 24\"\n",
              "     width=\"24px\">\n",
              "    <g>\n",
              "        <path d=\"M19 3H5c-1.1 0-2 .9-2 2v14c0 1.1.9 2 2 2h14c1.1 0 2-.9 2-2V5c0-1.1-.9-2-2-2zM9 17H7v-7h2v7zm4 0h-2V7h2v10zm4 0h-2v-4h2v4z\"/>\n",
              "    </g>\n",
              "</svg>\n",
              "      </button>\n",
              "\n",
              "<style>\n",
              "  .colab-df-quickchart {\n",
              "      --bg-color: #E8F0FE;\n",
              "      --fill-color: #1967D2;\n",
              "      --hover-bg-color: #E2EBFA;\n",
              "      --hover-fill-color: #174EA6;\n",
              "      --disabled-fill-color: #AAA;\n",
              "      --disabled-bg-color: #DDD;\n",
              "  }\n",
              "\n",
              "  [theme=dark] .colab-df-quickchart {\n",
              "      --bg-color: #3B4455;\n",
              "      --fill-color: #D2E3FC;\n",
              "      --hover-bg-color: #434B5C;\n",
              "      --hover-fill-color: #FFFFFF;\n",
              "      --disabled-bg-color: #3B4455;\n",
              "      --disabled-fill-color: #666;\n",
              "  }\n",
              "\n",
              "  .colab-df-quickchart {\n",
              "    background-color: var(--bg-color);\n",
              "    border: none;\n",
              "    border-radius: 50%;\n",
              "    cursor: pointer;\n",
              "    display: none;\n",
              "    fill: var(--fill-color);\n",
              "    height: 32px;\n",
              "    padding: 0;\n",
              "    width: 32px;\n",
              "  }\n",
              "\n",
              "  .colab-df-quickchart:hover {\n",
              "    background-color: var(--hover-bg-color);\n",
              "    box-shadow: 0 1px 2px rgba(60, 64, 67, 0.3), 0 1px 3px 1px rgba(60, 64, 67, 0.15);\n",
              "    fill: var(--button-hover-fill-color);\n",
              "  }\n",
              "\n",
              "  .colab-df-quickchart-complete:disabled,\n",
              "  .colab-df-quickchart-complete:disabled:hover {\n",
              "    background-color: var(--disabled-bg-color);\n",
              "    fill: var(--disabled-fill-color);\n",
              "    box-shadow: none;\n",
              "  }\n",
              "\n",
              "  .colab-df-spinner {\n",
              "    border: 2px solid var(--fill-color);\n",
              "    border-color: transparent;\n",
              "    border-bottom-color: var(--fill-color);\n",
              "    animation:\n",
              "      spin 1s steps(1) infinite;\n",
              "  }\n",
              "\n",
              "  @keyframes spin {\n",
              "    0% {\n",
              "      border-color: transparent;\n",
              "      border-bottom-color: var(--fill-color);\n",
              "      border-left-color: var(--fill-color);\n",
              "    }\n",
              "    20% {\n",
              "      border-color: transparent;\n",
              "      border-left-color: var(--fill-color);\n",
              "      border-top-color: var(--fill-color);\n",
              "    }\n",
              "    30% {\n",
              "      border-color: transparent;\n",
              "      border-left-color: var(--fill-color);\n",
              "      border-top-color: var(--fill-color);\n",
              "      border-right-color: var(--fill-color);\n",
              "    }\n",
              "    40% {\n",
              "      border-color: transparent;\n",
              "      border-right-color: var(--fill-color);\n",
              "      border-top-color: var(--fill-color);\n",
              "    }\n",
              "    60% {\n",
              "      border-color: transparent;\n",
              "      border-right-color: var(--fill-color);\n",
              "    }\n",
              "    80% {\n",
              "      border-color: transparent;\n",
              "      border-right-color: var(--fill-color);\n",
              "      border-bottom-color: var(--fill-color);\n",
              "    }\n",
              "    90% {\n",
              "      border-color: transparent;\n",
              "      border-bottom-color: var(--fill-color);\n",
              "    }\n",
              "  }\n",
              "</style>\n",
              "\n",
              "      <script>\n",
              "        async function quickchart(key) {\n",
              "          const quickchartButtonEl =\n",
              "            document.querySelector('#' + key + ' button');\n",
              "          quickchartButtonEl.disabled = true;  // To prevent multiple clicks.\n",
              "          quickchartButtonEl.classList.add('colab-df-spinner');\n",
              "          try {\n",
              "            const charts = await google.colab.kernel.invokeFunction(\n",
              "                'suggestCharts', [key], {});\n",
              "          } catch (error) {\n",
              "            console.error('Error during call to suggestCharts:', error);\n",
              "          }\n",
              "          quickchartButtonEl.classList.remove('colab-df-spinner');\n",
              "          quickchartButtonEl.classList.add('colab-df-quickchart-complete');\n",
              "        }\n",
              "        (() => {\n",
              "          let quickchartButtonEl =\n",
              "            document.querySelector('#df-50b4b13d-1366-4063-8a0b-0075f60f5ffa button');\n",
              "          quickchartButtonEl.style.display =\n",
              "            google.colab.kernel.accessAllowed ? 'block' : 'none';\n",
              "        })();\n",
              "      </script>\n",
              "    </div>\n",
              "\n",
              "    </div>\n",
              "  </div>\n"
            ],
            "application/vnd.google.colaboratory.intrinsic+json": {
              "type": "dataframe",
              "variable_name": "news_df",
              "summary": "{\n  \"name\": \"news_df\",\n  \"rows\": 44898,\n  \"fields\": [\n    {\n      \"column\": \"news_label\",\n      \"properties\": {\n        \"dtype\": \"number\",\n        \"std\": 0,\n        \"min\": 0,\n        \"max\": 1,\n        \"num_unique_values\": 2,\n        \"samples\": [\n          0,\n          1\n        ],\n        \"semantic_type\": \"\",\n        \"description\": \"\"\n      }\n    },\n    {\n      \"column\": \"news_text\",\n      \"properties\": {\n        \"dtype\": \"string\",\n        \"num_unique_values\": 39105,\n        \"samples\": [\n          \" This Church Treasurer Is Going To Jail For A Crime Spree That Blows The Lie Of \\u2018Christian Morality\\u2019 Apart (VIDEO) A church treasurer from Ohio is going to jail for five years after blowing $800,000 of church funds on a decade-long drugs and sex rampage. So much for that  Christian Morality  that Evangelicals argue makes them better than people of other faiths and none.61-year-old Garry Meyer was the trusted treasurer of Tri-County Baptist Church in West Chester Township, Ohio for 14 years. What his church did not know, is that he was actually cooking the books, spending nearly a million dollars of church money on drugs, lavish holidays, expensive cars, pornography and  high end  escorts for more than a decade.While maintaining the pretense of a god-fearing, responsible, married father, Meyer lived a rock star lifestyle on the side   and his church community picked up the tab.But, sadly for Meyer, his wife uncovered the crime. Under pressure, he made a confession to the church. The only problem was, he  confessed  to stealing $400,000. Once the full investigation was complete, Meyer was exposed as a liar all over again. The full sum stolen was twice that figure.Meyer s wife sobbed in the courtroom as her husband s exploits were exposed, and he was sentenced to five years in prison. He told the court: There is no excuse for my actions, I also want to say I am sorry to my family. I have caused unimaginable hurt and suffering, Turning to his wife, Meyer said: I am sorry for betraying your trust   you have always been the best part of my life. Meyer stole nearly a million dollars from his own congregation in order to fund a lifestyle to which his church is supposed to stand opposed. Also speaking at Meyer s sentancing hearing was colleague Pastor Brian McManus, who said: Our church family has continued to pray for everyone involved in this very sad event. The truth is, our life choices always come down to personal   not religious   morality. A person bent on making the wrong decisions in life, will do so with or without the bible. This lesson is everywhere   from child-abusing priests, to chumps like Garry Meyer, and on to so-called Christian Conservative leaders who lay the sin of wrath upon anyone who fails to follow their warped Ayn Randian version of God.Featured image via video screen capture\",\n          \"SENATOR FEINSTEIN Shocks CNN Anchor With \\u201cPrecise Answer\\u201d On Trump/Russia Smear Campaign [Video] What s all the fuss about if there s no there, there? Is anyone else sickened by the left s efforts to discredit President Trump for months when they knew there was NOTHING THERE!Feinstein had visited CIA headquarters on Tuesday and was briefed on the investigation but months before this we all knew the truth It s just that Feinstein finally admitted it:  Not at this time NOT AT THIS TIME???The Democrats owe President Trump the BIGGEST apology!THE FOLLOWING COMMENT EXPRESSES HOW AMERICA FEELS ABOUT FEINSTEIN AND HER CRONIES: It s been hundreds of days since the  Russian  smear campaign conducted by MSM, democrat operative morons like Olbermann and late night  comedians , and Clintons political cronies   and yet still nothing. Nothing. Not a single thing. A few more months and then they will quietly say  case closed  and hope and pray that we all forgot. Sorry but we won t and we watch you all very differently now, we see right through you. Our patience is just about out and your time handling our power is up. FEINSTEIN EMBARRASES HERSELF DURING QUESTIONING TO NEIL GORSUCH:Senator Dianne Feinstein is no match for Supreme Court nominee Neil Gorsuch. In her questioning today she really made a fool of herself when she tossed out a question that made it clear she hadn t done her homework on Gorsuch. He answered her question by citing numerous specific cases in his legal history. It s understandable that the Democrats are trying to play to their base by dragging out the process of asking ridiculous questions of this perfect nominee for the SCOTUS. This is embarrassing and we have two more days of it! It seems this is backfiring on the Democrats RETIRE ALREADY!\"\n        ],\n        \"semantic_type\": \"\",\n        \"description\": \"\"\n      }\n    }\n  ]\n}"
            }
          },
          "metadata": {},
          "execution_count": 24
        }
      ],
      "source": [
        "# Combine the relevant columns into a new column 'news_text' by joining their values with a space\n",
        "news_df['news_text'] = news_df['title'] + ' ' + news_df['text']\n",
        "\n",
        "# Drop the irrelevant columns from the DataFrame as they are no longer needed\n",
        "news_df.drop(columns=['title','text','date'], inplace=True)\n",
        "\n",
        "# Display the first 5 rows of the updated DataFrame to check the result\n",
        "news_df.head(5)"
      ]
    },
    {
      "cell_type": "markdown",
      "metadata": {
        "id": "L944HZpsJrFy"
      },
      "source": [
        "## **2.** Text Preprocessing <font color = red>[15 marks]</font> <br>\n",
        "\n",
        "\n",
        "\n",
        "\n",
        "\n",
        "\n",
        "On all the news text, you need to:\n",
        "<ol type=1>\n",
        "  <li> Make the text lowercase\n",
        "  <li> Remove text in square brackets\n",
        "  <li> Remove punctuation\n",
        "  <li> Remove words containing numbers\n",
        "</ol>\n",
        "\n",
        "\n",
        "Once you have done these cleaning operations you need to perform POS tagging and lemmatization on the cleaned news text, and remove all words that are not tagged as NN or NNS."
      ]
    },
    {
      "cell_type": "markdown",
      "metadata": {
        "id": "_-6VW3V3jx1A"
      },
      "source": [
        "### **2.1** Text Cleaning  <font color = red>[5 marks]</font> <br>\n",
        "\n"
      ]
    },
    {
      "cell_type": "markdown",
      "metadata": {
        "id": "78OZs7P4kp41"
      },
      "source": [
        "#### 2.1.0 Create a new DataFrame to store the processed data\n",
        "\n"
      ]
    },
    {
      "cell_type": "code",
      "execution_count": 25,
      "metadata": {
        "id": "uXnN7aa_JrF0"
      },
      "outputs": [],
      "source": [
        "# Create a DataFrame('df_clean') that will have only the cleaned news text and the lemmatized news text with POS tags removed\n",
        "df_clean = pd.DataFrame(columns=['news_text'])\n",
        "\n",
        "# Add 'news_label' column to the new dataframe for topic identification\n",
        "df_clean['news_label'] = news_df['news_label']\n"
      ]
    },
    {
      "cell_type": "markdown",
      "metadata": {
        "id": "hsf00J83mdNL"
      },
      "source": [
        "#### 2.1.1 Write the function to clean the text and remove all the unnecessary elements  <font color = red>[4 marks]</font> <br>\n",
        "\n"
      ]
    },
    {
      "cell_type": "code",
      "execution_count": 31,
      "metadata": {
        "id": "qm7SjjSkJrFz"
      },
      "outputs": [],
      "source": [
        "# Write the function here to clean the text and remove all the unnecessary elements\n",
        "\n",
        "# Convert to lower case\n",
        "\n",
        "# Remove text in square brackets\n",
        "\n",
        "# Remove punctuation\n",
        "\n",
        "# Remove words with numbers\n",
        "\n",
        "def clean_text(text):\n",
        "  text = text.lower()\n",
        "  text = re.sub('\\[.*?\\]', '', text)\n",
        "  text = re.sub('[%s]' % re.escape(string.punctuation), '', text)\n",
        "  text = re.sub('\\w*\\d\\w*', '', text)\n",
        "  return text\n"
      ]
    },
    {
      "cell_type": "markdown",
      "metadata": {
        "id": "dDFMNnrdkUvd"
      },
      "source": [
        "#### 2.1.2  Apply the function to clean the news text and store the cleaned text in a new column within the new DataFrame. <font color = red>[1 mark]</font> <br>\n"
      ]
    },
    {
      "cell_type": "code",
      "execution_count": 32,
      "metadata": {
        "id": "nOiDVvEIJrF0"
      },
      "outputs": [],
      "source": [
        "# Apply the function to clean the news text and remove all unnecessary elements\n",
        "# Store it in a separate column in the new DataFrame\n",
        "df_clean['clean_text'] = news_df['news_text'].apply(clean_text)\n"
      ]
    },
    {
      "cell_type": "markdown",
      "metadata": {
        "id": "MSAVnSelkF9d"
      },
      "source": [
        "### **2.2** POS Tagging and Lemmatization  <font color = red>[10 marks]</font> <br>\n",
        "\n"
      ]
    },
    {
      "cell_type": "markdown",
      "metadata": {
        "id": "QCqNHDL2mHok"
      },
      "source": [
        "#### 2.2.1 Write the function for POS tagging and lemmatization, filtering stopwords and keeping only NN and NNS tags <font color = red>[8 marks]</font> <br>\n",
        "\n"
      ]
    },
    {
      "cell_type": "code",
      "execution_count": 33,
      "metadata": {
        "id": "zgOu8t8HJrFz"
      },
      "outputs": [],
      "source": [
        "# Write the function for POS tagging and lemmatization, filtering stopwords and keeping only NN and NNS tags\n",
        "\n",
        "def pos_tag_lemma_func(text):\n",
        "  doc = nlp(text)\n",
        "  tokens = [token.lemma_ for token in doc if token.pos_ in ['NOUN', 'PROPN']]\n",
        "  return ' '.join(tokens)\n"
      ]
    },
    {
      "cell_type": "markdown",
      "metadata": {
        "id": "_T3So7PXlibT"
      },
      "source": [
        "#### 2.2.2  Apply the POS tagging and lemmatization function to cleaned text and store it in a new column within the new DataFrame. <font color = red>[2 mark]</font> <br>\n",
        "\n",
        "**NOTE: Store the cleaned text and the lemmatized text with POS tags removed in separate columns within the new DataFrame.**\n",
        "\n",
        "**This will be useful for analysing character length differences between cleaned text and lemmatized text with POS tags removed during EDA.**\n"
      ]
    },
    {
      "cell_type": "code",
      "execution_count": 34,
      "metadata": {
        "id": "L9FWmibNI67F"
      },
      "outputs": [],
      "source": [
        "# Apply POS tagging and lemmatization function to cleaned text\n",
        "# Store it in a separate column in the new DataFrame\n",
        "\n",
        "df_clean['lemmatized_text'] = df_clean['clean_text'].apply(pos_tag_lemma_func)\n"
      ]
    },
    {
      "cell_type": "markdown",
      "metadata": {
        "id": "BMc5kjeqnX9b"
      },
      "source": [
        "### Save the Cleaned data as a csv file (Recommended)"
      ]
    },
    {
      "cell_type": "code",
      "execution_count": 35,
      "metadata": {
        "id": "fTjNG5xfnlwm"
      },
      "outputs": [],
      "source": [
        "## Recommended to perform the below steps to save time while rerunning the code\n",
        "df_clean.to_csv(\"clean_df.csv\", index=False)\n",
        "df_clean = pd.read_csv(\"clean_df.csv\")"
      ]
    },
    {
      "cell_type": "code",
      "execution_count": 36,
      "metadata": {
        "id": "0M0LseVjneMv",
        "colab": {
          "base_uri": "https://localhost:8080/",
          "height": 206
        },
        "outputId": "bea09977-451b-4228-d93d-13a32169d4bb"
      },
      "outputs": [
        {
          "output_type": "execute_result",
          "data": {
            "text/plain": [
              "   news_text  news_label                                         clean_text  \\\n",
              "0        NaN           1  as us budget fight looms republicans flip thei...   \n",
              "1        NaN           1  us military to accept transgender recruits on ...   \n",
              "2        NaN           1  senior us republican senator let mr mueller do...   \n",
              "3        NaN           1  fbi russia probe helped by australian diplomat...   \n",
              "4        NaN           1  trump wants postal service to charge much more...   \n",
              "\n",
              "                                     lemmatized_text  \n",
              "0  budget fight republicans script washington reu...  \n",
              "1  us military transgender recruit monday pentago...  \n",
              "2  us senator mr mueller job washington reuters c...  \n",
              "3  fbi russia probe diplomat tipoff nyt washingto...  \n",
              "4  trump service amazon shipment seattlewashingto...  "
            ],
            "text/html": [
              "\n",
              "  <div id=\"df-374459cd-a74b-4439-9719-916ad2f026b7\" class=\"colab-df-container\">\n",
              "    <div>\n",
              "<style scoped>\n",
              "    .dataframe tbody tr th:only-of-type {\n",
              "        vertical-align: middle;\n",
              "    }\n",
              "\n",
              "    .dataframe tbody tr th {\n",
              "        vertical-align: top;\n",
              "    }\n",
              "\n",
              "    .dataframe thead th {\n",
              "        text-align: right;\n",
              "    }\n",
              "</style>\n",
              "<table border=\"1\" class=\"dataframe\">\n",
              "  <thead>\n",
              "    <tr style=\"text-align: right;\">\n",
              "      <th></th>\n",
              "      <th>news_text</th>\n",
              "      <th>news_label</th>\n",
              "      <th>clean_text</th>\n",
              "      <th>lemmatized_text</th>\n",
              "    </tr>\n",
              "  </thead>\n",
              "  <tbody>\n",
              "    <tr>\n",
              "      <th>0</th>\n",
              "      <td>NaN</td>\n",
              "      <td>1</td>\n",
              "      <td>as us budget fight looms republicans flip thei...</td>\n",
              "      <td>budget fight republicans script washington reu...</td>\n",
              "    </tr>\n",
              "    <tr>\n",
              "      <th>1</th>\n",
              "      <td>NaN</td>\n",
              "      <td>1</td>\n",
              "      <td>us military to accept transgender recruits on ...</td>\n",
              "      <td>us military transgender recruit monday pentago...</td>\n",
              "    </tr>\n",
              "    <tr>\n",
              "      <th>2</th>\n",
              "      <td>NaN</td>\n",
              "      <td>1</td>\n",
              "      <td>senior us republican senator let mr mueller do...</td>\n",
              "      <td>us senator mr mueller job washington reuters c...</td>\n",
              "    </tr>\n",
              "    <tr>\n",
              "      <th>3</th>\n",
              "      <td>NaN</td>\n",
              "      <td>1</td>\n",
              "      <td>fbi russia probe helped by australian diplomat...</td>\n",
              "      <td>fbi russia probe diplomat tipoff nyt washingto...</td>\n",
              "    </tr>\n",
              "    <tr>\n",
              "      <th>4</th>\n",
              "      <td>NaN</td>\n",
              "      <td>1</td>\n",
              "      <td>trump wants postal service to charge much more...</td>\n",
              "      <td>trump service amazon shipment seattlewashingto...</td>\n",
              "    </tr>\n",
              "  </tbody>\n",
              "</table>\n",
              "</div>\n",
              "    <div class=\"colab-df-buttons\">\n",
              "\n",
              "  <div class=\"colab-df-container\">\n",
              "    <button class=\"colab-df-convert\" onclick=\"convertToInteractive('df-374459cd-a74b-4439-9719-916ad2f026b7')\"\n",
              "            title=\"Convert this dataframe to an interactive table.\"\n",
              "            style=\"display:none;\">\n",
              "\n",
              "  <svg xmlns=\"http://www.w3.org/2000/svg\" height=\"24px\" viewBox=\"0 -960 960 960\">\n",
              "    <path d=\"M120-120v-720h720v720H120Zm60-500h600v-160H180v160Zm220 220h160v-160H400v160Zm0 220h160v-160H400v160ZM180-400h160v-160H180v160Zm440 0h160v-160H620v160ZM180-180h160v-160H180v160Zm440 0h160v-160H620v160Z\"/>\n",
              "  </svg>\n",
              "    </button>\n",
              "\n",
              "  <style>\n",
              "    .colab-df-container {\n",
              "      display:flex;\n",
              "      gap: 12px;\n",
              "    }\n",
              "\n",
              "    .colab-df-convert {\n",
              "      background-color: #E8F0FE;\n",
              "      border: none;\n",
              "      border-radius: 50%;\n",
              "      cursor: pointer;\n",
              "      display: none;\n",
              "      fill: #1967D2;\n",
              "      height: 32px;\n",
              "      padding: 0 0 0 0;\n",
              "      width: 32px;\n",
              "    }\n",
              "\n",
              "    .colab-df-convert:hover {\n",
              "      background-color: #E2EBFA;\n",
              "      box-shadow: 0px 1px 2px rgba(60, 64, 67, 0.3), 0px 1px 3px 1px rgba(60, 64, 67, 0.15);\n",
              "      fill: #174EA6;\n",
              "    }\n",
              "\n",
              "    .colab-df-buttons div {\n",
              "      margin-bottom: 4px;\n",
              "    }\n",
              "\n",
              "    [theme=dark] .colab-df-convert {\n",
              "      background-color: #3B4455;\n",
              "      fill: #D2E3FC;\n",
              "    }\n",
              "\n",
              "    [theme=dark] .colab-df-convert:hover {\n",
              "      background-color: #434B5C;\n",
              "      box-shadow: 0px 1px 3px 1px rgba(0, 0, 0, 0.15);\n",
              "      filter: drop-shadow(0px 1px 2px rgba(0, 0, 0, 0.3));\n",
              "      fill: #FFFFFF;\n",
              "    }\n",
              "  </style>\n",
              "\n",
              "    <script>\n",
              "      const buttonEl =\n",
              "        document.querySelector('#df-374459cd-a74b-4439-9719-916ad2f026b7 button.colab-df-convert');\n",
              "      buttonEl.style.display =\n",
              "        google.colab.kernel.accessAllowed ? 'block' : 'none';\n",
              "\n",
              "      async function convertToInteractive(key) {\n",
              "        const element = document.querySelector('#df-374459cd-a74b-4439-9719-916ad2f026b7');\n",
              "        const dataTable =\n",
              "          await google.colab.kernel.invokeFunction('convertToInteractive',\n",
              "                                                    [key], {});\n",
              "        if (!dataTable) return;\n",
              "\n",
              "        const docLinkHtml = 'Like what you see? Visit the ' +\n",
              "          '<a target=\"_blank\" href=https://colab.research.google.com/notebooks/data_table.ipynb>data table notebook</a>'\n",
              "          + ' to learn more about interactive tables.';\n",
              "        element.innerHTML = '';\n",
              "        dataTable['output_type'] = 'display_data';\n",
              "        await google.colab.output.renderOutput(dataTable, element);\n",
              "        const docLink = document.createElement('div');\n",
              "        docLink.innerHTML = docLinkHtml;\n",
              "        element.appendChild(docLink);\n",
              "      }\n",
              "    </script>\n",
              "  </div>\n",
              "\n",
              "\n",
              "    <div id=\"df-59dc8fe8-1baa-443a-825f-ae8793d1cf7a\">\n",
              "      <button class=\"colab-df-quickchart\" onclick=\"quickchart('df-59dc8fe8-1baa-443a-825f-ae8793d1cf7a')\"\n",
              "                title=\"Suggest charts\"\n",
              "                style=\"display:none;\">\n",
              "\n",
              "<svg xmlns=\"http://www.w3.org/2000/svg\" height=\"24px\"viewBox=\"0 0 24 24\"\n",
              "     width=\"24px\">\n",
              "    <g>\n",
              "        <path d=\"M19 3H5c-1.1 0-2 .9-2 2v14c0 1.1.9 2 2 2h14c1.1 0 2-.9 2-2V5c0-1.1-.9-2-2-2zM9 17H7v-7h2v7zm4 0h-2V7h2v10zm4 0h-2v-4h2v4z\"/>\n",
              "    </g>\n",
              "</svg>\n",
              "      </button>\n",
              "\n",
              "<style>\n",
              "  .colab-df-quickchart {\n",
              "      --bg-color: #E8F0FE;\n",
              "      --fill-color: #1967D2;\n",
              "      --hover-bg-color: #E2EBFA;\n",
              "      --hover-fill-color: #174EA6;\n",
              "      --disabled-fill-color: #AAA;\n",
              "      --disabled-bg-color: #DDD;\n",
              "  }\n",
              "\n",
              "  [theme=dark] .colab-df-quickchart {\n",
              "      --bg-color: #3B4455;\n",
              "      --fill-color: #D2E3FC;\n",
              "      --hover-bg-color: #434B5C;\n",
              "      --hover-fill-color: #FFFFFF;\n",
              "      --disabled-bg-color: #3B4455;\n",
              "      --disabled-fill-color: #666;\n",
              "  }\n",
              "\n",
              "  .colab-df-quickchart {\n",
              "    background-color: var(--bg-color);\n",
              "    border: none;\n",
              "    border-radius: 50%;\n",
              "    cursor: pointer;\n",
              "    display: none;\n",
              "    fill: var(--fill-color);\n",
              "    height: 32px;\n",
              "    padding: 0;\n",
              "    width: 32px;\n",
              "  }\n",
              "\n",
              "  .colab-df-quickchart:hover {\n",
              "    background-color: var(--hover-bg-color);\n",
              "    box-shadow: 0 1px 2px rgba(60, 64, 67, 0.3), 0 1px 3px 1px rgba(60, 64, 67, 0.15);\n",
              "    fill: var(--button-hover-fill-color);\n",
              "  }\n",
              "\n",
              "  .colab-df-quickchart-complete:disabled,\n",
              "  .colab-df-quickchart-complete:disabled:hover {\n",
              "    background-color: var(--disabled-bg-color);\n",
              "    fill: var(--disabled-fill-color);\n",
              "    box-shadow: none;\n",
              "  }\n",
              "\n",
              "  .colab-df-spinner {\n",
              "    border: 2px solid var(--fill-color);\n",
              "    border-color: transparent;\n",
              "    border-bottom-color: var(--fill-color);\n",
              "    animation:\n",
              "      spin 1s steps(1) infinite;\n",
              "  }\n",
              "\n",
              "  @keyframes spin {\n",
              "    0% {\n",
              "      border-color: transparent;\n",
              "      border-bottom-color: var(--fill-color);\n",
              "      border-left-color: var(--fill-color);\n",
              "    }\n",
              "    20% {\n",
              "      border-color: transparent;\n",
              "      border-left-color: var(--fill-color);\n",
              "      border-top-color: var(--fill-color);\n",
              "    }\n",
              "    30% {\n",
              "      border-color: transparent;\n",
              "      border-left-color: var(--fill-color);\n",
              "      border-top-color: var(--fill-color);\n",
              "      border-right-color: var(--fill-color);\n",
              "    }\n",
              "    40% {\n",
              "      border-color: transparent;\n",
              "      border-right-color: var(--fill-color);\n",
              "      border-top-color: var(--fill-color);\n",
              "    }\n",
              "    60% {\n",
              "      border-color: transparent;\n",
              "      border-right-color: var(--fill-color);\n",
              "    }\n",
              "    80% {\n",
              "      border-color: transparent;\n",
              "      border-right-color: var(--fill-color);\n",
              "      border-bottom-color: var(--fill-color);\n",
              "    }\n",
              "    90% {\n",
              "      border-color: transparent;\n",
              "      border-bottom-color: var(--fill-color);\n",
              "    }\n",
              "  }\n",
              "</style>\n",
              "\n",
              "      <script>\n",
              "        async function quickchart(key) {\n",
              "          const quickchartButtonEl =\n",
              "            document.querySelector('#' + key + ' button');\n",
              "          quickchartButtonEl.disabled = true;  // To prevent multiple clicks.\n",
              "          quickchartButtonEl.classList.add('colab-df-spinner');\n",
              "          try {\n",
              "            const charts = await google.colab.kernel.invokeFunction(\n",
              "                'suggestCharts', [key], {});\n",
              "          } catch (error) {\n",
              "            console.error('Error during call to suggestCharts:', error);\n",
              "          }\n",
              "          quickchartButtonEl.classList.remove('colab-df-spinner');\n",
              "          quickchartButtonEl.classList.add('colab-df-quickchart-complete');\n",
              "        }\n",
              "        (() => {\n",
              "          let quickchartButtonEl =\n",
              "            document.querySelector('#df-59dc8fe8-1baa-443a-825f-ae8793d1cf7a button');\n",
              "          quickchartButtonEl.style.display =\n",
              "            google.colab.kernel.accessAllowed ? 'block' : 'none';\n",
              "        })();\n",
              "      </script>\n",
              "    </div>\n",
              "\n",
              "    </div>\n",
              "  </div>\n"
            ],
            "application/vnd.google.colaboratory.intrinsic+json": {
              "type": "dataframe",
              "variable_name": "df_clean",
              "summary": "{\n  \"name\": \"df_clean\",\n  \"rows\": 44898,\n  \"fields\": [\n    {\n      \"column\": \"news_text\",\n      \"properties\": {\n        \"dtype\": \"number\",\n        \"std\": null,\n        \"min\": null,\n        \"max\": null,\n        \"num_unique_values\": 0,\n        \"samples\": [],\n        \"semantic_type\": \"\",\n        \"description\": \"\"\n      }\n    },\n    {\n      \"column\": \"news_label\",\n      \"properties\": {\n        \"dtype\": \"number\",\n        \"std\": 0,\n        \"min\": 0,\n        \"max\": 1,\n        \"num_unique_values\": 2,\n        \"samples\": [],\n        \"semantic_type\": \"\",\n        \"description\": \"\"\n      }\n    },\n    {\n      \"column\": \"clean_text\",\n      \"properties\": {\n        \"dtype\": \"string\",\n        \"num_unique_values\": 39101,\n        \"samples\": [],\n        \"semantic_type\": \"\",\n        \"description\": \"\"\n      }\n    },\n    {\n      \"column\": \"lemmatized_text\",\n      \"properties\": {\n        \"dtype\": \"string\",\n        \"num_unique_values\": 38985,\n        \"samples\": [],\n        \"semantic_type\": \"\",\n        \"description\": \"\"\n      }\n    }\n  ]\n}"
            }
          },
          "metadata": {},
          "execution_count": 36
        }
      ],
      "source": [
        "# Check the first few rows of the DataFrame\n",
        "\n",
        "df_clean.head()"
      ]
    },
    {
      "cell_type": "code",
      "execution_count": 37,
      "metadata": {
        "id": "lDZq_T3FYuOi",
        "colab": {
          "base_uri": "https://localhost:8080/"
        },
        "outputId": "de116f23-0dcb-4cdb-e386-1df69f303383"
      },
      "outputs": [
        {
          "output_type": "execute_result",
          "data": {
            "text/plain": [
              "(44898, 4)"
            ]
          },
          "metadata": {},
          "execution_count": 37
        }
      ],
      "source": [
        "# Check the dimensions of the DataFrame\n",
        "\n",
        "df_clean.shape"
      ]
    },
    {
      "cell_type": "code",
      "execution_count": 38,
      "metadata": {
        "id": "ah1aJPmiAqWz",
        "colab": {
          "base_uri": "https://localhost:8080/"
        },
        "outputId": "2096e242-dd26-430b-ca04-61c13fbc53ec"
      },
      "outputs": [
        {
          "output_type": "stream",
          "name": "stdout",
          "text": [
            "<class 'pandas.core.frame.DataFrame'>\n",
            "RangeIndex: 44898 entries, 0 to 44897\n",
            "Data columns (total 4 columns):\n",
            " #   Column           Non-Null Count  Dtype  \n",
            "---  ------           --------------  -----  \n",
            " 0   news_text        0 non-null      float64\n",
            " 1   news_label       44898 non-null  int64  \n",
            " 2   clean_text       44898 non-null  object \n",
            " 3   lemmatized_text  44888 non-null  object \n",
            "dtypes: float64(1), int64(1), object(2)\n",
            "memory usage: 1.4+ MB\n"
          ]
        }
      ],
      "source": [
        "# Check the number of non-null entries and data types of each column\n",
        "\n",
        "df_clean.info()\n"
      ]
    },
    {
      "cell_type": "markdown",
      "metadata": {
        "id": "XMzqKme_2QQ0"
      },
      "source": [
        "## **3.** Train Validation Split <font color = red>[5 marks]</font> <br>"
      ]
    },
    {
      "cell_type": "code",
      "execution_count": 39,
      "metadata": {
        "id": "jmx_W7Ty2PlK"
      },
      "outputs": [],
      "source": [
        "# Import Train Test Split and split the DataFrame into 70% train and 30% validation data\n",
        "\n",
        "from sklearn.model_selection import train_test_split\n",
        "\n",
        "train_df, val_df = train_test_split(df_clean, test_size=0.3, random_state=56)\n"
      ]
    },
    {
      "cell_type": "markdown",
      "metadata": {
        "id": "_7Un1AElJrF2"
      },
      "source": [
        "## **4.** Exploratory Data Analysis on Training Data  <font color = red>[40 marks]</font> <br>\n",
        "\n",
        "Perform EDA on cleaned and preprocessed texts to get familiar with the training data by performing the tasks given below:\n",
        "\n",
        "<ul>\n",
        "  <li> Visualise the training data according to the character length of cleaned news text and lemmatized news text with POS tags removed\n",
        "  <li> Using a word cloud, find the top 40 words by frequency in true and fake news separately\n",
        "  <li> Find the top unigrams, bigrams and trigrams by frequency in true and fake news separately\n",
        "</ul>\n",
        "\n",
        "\n",
        "\n"
      ]
    },
    {
      "cell_type": "markdown",
      "metadata": {
        "id": "rOZ7yZ4Fp1cp"
      },
      "source": [
        "### **4.1** Visualise character lengths of cleaned news text and lemmatized news text with POS tags removed  <font color = red>[10 marks]</font> <br>\n",
        "\n"
      ]
    },
    {
      "cell_type": "markdown",
      "metadata": {
        "id": "UCI4DbZWpQ7n"
      },
      "source": [
        "##### 4.1.1  Add new columns to calculate the character lengths of the processed data columns  <font color = red>[3 marks]</font> <br>\n",
        "\n"
      ]
    },
    {
      "cell_type": "code",
      "execution_count": null,
      "metadata": {
        "id": "HifHm5rxpaxZ"
      },
      "outputs": [],
      "source": [
        "# Add a new column to calculate the character length of cleaned news text\n",
        "\n",
        "# Add a new column to calculate the character length of lemmatized news text with POS tags removed\n"
      ]
    },
    {
      "cell_type": "markdown",
      "metadata": {
        "id": "U1JvT8lNpbFe"
      },
      "source": [
        "##### 4.1.2  Create Histogram to visualise character lengths  <font color = red>[7 marks]</font> <br>\n",
        "\n",
        " Plot both distributions on the same graph for comparison and to observe overlaps and peak differences to understand text preprocessing's impact on text length."
      ]
    },
    {
      "cell_type": "code",
      "execution_count": null,
      "metadata": {
        "id": "q-zaqJF6JrF2"
      },
      "outputs": [],
      "source": [
        "# Create a histogram plot to visualise character lengths\n",
        "\n",
        "# Add histogram for cleaned news text\n",
        "\n",
        "# Add histogram for lemmatized news text with POS tags removed\n"
      ]
    },
    {
      "cell_type": "markdown",
      "metadata": {
        "id": "T9jD_6SeJrF3"
      },
      "source": [
        "### **4.2** Find and display the top 40 words by frequency among true and fake news in Training data after processing the text  <font color = red>[10 marks]</font> <br>\n",
        "\n"
      ]
    },
    {
      "cell_type": "markdown",
      "metadata": {
        "id": "n320yzDiEUH4"
      },
      "source": [
        "##### 4.2.1 Find and display the top 40 words by frequency among true news in Training data after processing the text  <font color = red>[5 marks]</font> <br>"
      ]
    },
    {
      "cell_type": "code",
      "execution_count": null,
      "metadata": {
        "id": "QcfdvtfZJrF3"
      },
      "outputs": [],
      "source": [
        "## Use a word cloud find the top 40 words by frequency among true news in the training data after processing the text\n",
        "\n",
        "# Filter news with label 1 (True News) and convert to it string and handle any non-string values\n",
        "\n",
        "# Generate word cloud for True News\n"
      ]
    },
    {
      "cell_type": "markdown",
      "metadata": {
        "id": "LbHtjWzbEj__"
      },
      "source": [
        "##### 4.2.2 Find and display the top 40 words by frequency among fake news in Training data after processing the text  <font color = red>[5 marks]</font> <br>"
      ]
    },
    {
      "cell_type": "code",
      "execution_count": null,
      "metadata": {
        "id": "MOFoDEscEkMO"
      },
      "outputs": [],
      "source": [
        "## Use a word cloud find the top 40 words by frequency among fake news in the training data after processing the text\n",
        "\n",
        "# Filter news with label 0 (Fake News) and convert to it string and handle any non-string values\n",
        "\n",
        "# Generate word cloud for Fake News\n"
      ]
    },
    {
      "cell_type": "markdown",
      "metadata": {
        "id": "5DfCSbbmJrF4"
      },
      "source": [
        "### **4.3** Find and display the top unigrams, bigrams and trigrams by frequency in true news and fake news after processing the text  <font color = red>[20 marks]</font> <br>\n",
        "\n",
        "\n"
      ]
    },
    {
      "cell_type": "markdown",
      "metadata": {
        "id": "ApGagSppsAyL"
      },
      "source": [
        "##### 4.3.1 Write a function to get the specified top n-grams  <font color = red>[4 marks]</font> <br>\n",
        "\n"
      ]
    },
    {
      "cell_type": "code",
      "execution_count": null,
      "metadata": {
        "id": "5mbk5DS5JrF4"
      },
      "outputs": [],
      "source": [
        "# Write a function to get the specified top n-grams\n"
      ]
    },
    {
      "cell_type": "markdown",
      "metadata": {
        "id": "ZHcBL7vRsM4I"
      },
      "source": [
        "##### 4.3.2 Handle the NaN values  <font color = red>[1 mark]</font> <br>\n",
        "\n"
      ]
    },
    {
      "cell_type": "code",
      "execution_count": null,
      "metadata": {
        "id": "3Ks69UQGCXpw"
      },
      "outputs": [],
      "source": [
        "# Handle NaN values in the text data\n"
      ]
    },
    {
      "cell_type": "markdown",
      "metadata": {
        "id": "caioIgIEsfh2"
      },
      "source": [
        "### For True News\n",
        "\n",
        "\n"
      ]
    },
    {
      "cell_type": "markdown",
      "metadata": {
        "id": "QYB2ZXZ83fjo"
      },
      "source": [
        "##### 4.3.3 Display the top 10 unigrams by frequency in true news and plot them as a bar graph  <font color = red>[2.5 marks]</font> <br>"
      ]
    },
    {
      "cell_type": "code",
      "execution_count": null,
      "metadata": {
        "id": "YX7fedm1JrF8"
      },
      "outputs": [],
      "source": [
        "# Print the top 10 unigrams by frequency in true news and plot the same using a bar graph\n"
      ]
    },
    {
      "cell_type": "markdown",
      "metadata": {
        "id": "y3Q7wQnnsvOE"
      },
      "source": [
        "##### 4.3.4 Display the top 10 bigrams by frequency in true news and plot them as a bar graph  <font color = red>[2.5 marks]</font> <br>\n",
        "\n"
      ]
    },
    {
      "cell_type": "code",
      "execution_count": null,
      "metadata": {
        "id": "aV7kD7w8JrF8"
      },
      "outputs": [],
      "source": [
        "# Print the top 10 bigrams by frequency in true news and plot the same using a bar graph\n"
      ]
    },
    {
      "cell_type": "markdown",
      "metadata": {
        "id": "opdM04-Bs_Bg"
      },
      "source": [
        "##### 4.3.5 Display the top 10 trigrams by frequency in true news and plot them as a bar graph  <font color = red>[2.5 marks]</font> <br>\n",
        "\n"
      ]
    },
    {
      "cell_type": "code",
      "execution_count": null,
      "metadata": {
        "id": "Xkh7vtbtJrF-"
      },
      "outputs": [],
      "source": [
        "# Print the top 10 trigrams by frequency in true news and plot the same using a bar graph\n"
      ]
    },
    {
      "cell_type": "markdown",
      "metadata": {
        "id": "prNx2Sm0WGEj"
      },
      "source": [
        "### For Fake News\n",
        "\n",
        "\n",
        "\n",
        "\n",
        "\n"
      ]
    },
    {
      "cell_type": "markdown",
      "metadata": {
        "id": "obBKlBVK3mfX"
      },
      "source": [
        "##### 4.3.6 Display the top 10 unigrams by frequency in fake news and plot them as a bar graph  <font color = red>[2.5 marks]</font> <br>"
      ]
    },
    {
      "cell_type": "code",
      "execution_count": null,
      "metadata": {
        "id": "1qKDzoSIWGXp"
      },
      "outputs": [],
      "source": [
        "# Print the top 10 unigrams by frequency in fake news and plot the same using a bar graph\n"
      ]
    },
    {
      "cell_type": "markdown",
      "metadata": {
        "id": "bSlMnmqcYsNw"
      },
      "source": [
        "##### 4.3.7 Display the top 10 bigrams by frequency in fake news and plot them as a bar graph  <font color = red>[2.5 marks]</font> <br>\n",
        "\n"
      ]
    },
    {
      "cell_type": "code",
      "execution_count": null,
      "metadata": {
        "id": "r5xUk_r9Wa0f"
      },
      "outputs": [],
      "source": [
        "# Print the top 10 bigrams by frequency in fake news and plot the same using a bar graph\n"
      ]
    },
    {
      "cell_type": "markdown",
      "metadata": {
        "id": "i08WYIwPYs6R"
      },
      "source": [
        "##### 4.3.8 Display the top 10 trigrams by frequency in fake news and plot them as a bar graph  <font color = red>[2.5 marks]</font> <br>\n",
        "\n"
      ]
    },
    {
      "cell_type": "code",
      "execution_count": null,
      "metadata": {
        "id": "6nT9a1EvWa-s"
      },
      "outputs": [],
      "source": [
        "# Print the top 10 trigrams by frequency in fake news and plot the same using a bar graph\n"
      ]
    },
    {
      "cell_type": "markdown",
      "metadata": {
        "id": "2VsOO_oHN8-_"
      },
      "source": [
        "## **5.** Exploratory Data Analysis on Validation Data [Optional]\n",
        "\n",
        "Perform EDA on validation data to differentiate EDA on training data with EDA on validation data and the tasks are given below:\n",
        "\n",
        "<ul>\n",
        "  <li> Visualise the data according to the character length of cleaned news text and lemmatized text with POS tags removed\n",
        "  <li> Using a word cloud find the top 40 words by frequency in true and fake news separately\n",
        "  <li> Find the top unigrams, bigrams and trigrams by frequency in true and fake news separately\n",
        "</ul>\n",
        "\n",
        "\n",
        "\n"
      ]
    },
    {
      "cell_type": "markdown",
      "metadata": {
        "id": "jNkif5wrONfI"
      },
      "source": [
        "### **5.1** Visualise character lengths of cleaned news text and lemmatized news text with POS tags removed"
      ]
    },
    {
      "cell_type": "markdown",
      "metadata": {
        "id": "gAhwSWBWOTIj"
      },
      "source": [
        "##### 5.1.1  Add new columns to calculate the character lengths of the processed data columns"
      ]
    },
    {
      "cell_type": "code",
      "execution_count": null,
      "metadata": {
        "id": "6hYYTrdHORAs"
      },
      "outputs": [],
      "source": [
        "# Add a new column to calculate the character length of cleaned news text\n",
        "\n",
        "# Add a new column to calculate the character length of lemmatized news text with POS tags removed\n"
      ]
    },
    {
      "cell_type": "markdown",
      "metadata": {
        "id": "VRILiD8hOX5q"
      },
      "source": [
        "##### 5.1.2  Create Histogram to visualise character lengths\n",
        "\n",
        "Plot both distributions on the same graph for comparison and to observe overlaps and peak differences to understand text preprocessing's impact on text length."
      ]
    },
    {
      "cell_type": "code",
      "execution_count": null,
      "metadata": {
        "id": "j7LLOXC0Oaix"
      },
      "outputs": [],
      "source": [
        "# Create a histogram plot to visualise character lengths\n",
        "\n",
        "# Add histogram for cleaned news text\n",
        "\n",
        "# Add histogram for lemmatized news text with POS tags removed\n"
      ]
    },
    {
      "cell_type": "markdown",
      "metadata": {
        "id": "nPxa0JrvOwFu"
      },
      "source": [
        "### **5.2** Find and display the top 40 words by frequency among true and fake news after processing the text"
      ]
    },
    {
      "cell_type": "markdown",
      "metadata": {
        "id": "uOZRD8vaFt2h"
      },
      "source": [
        "##### 5.2.1  Find and display the top 40 words by frequency among true news in validation data after processing the text"
      ]
    },
    {
      "cell_type": "code",
      "execution_count": null,
      "metadata": {
        "id": "6_9UVs4WOw0_"
      },
      "outputs": [],
      "source": [
        "## Use a word cloud find the top 40 words by frequency among true news after processing the text\n",
        "\n",
        "# Generate word cloud for True News\n"
      ]
    },
    {
      "cell_type": "markdown",
      "metadata": {
        "id": "T6AQPITsFuop"
      },
      "source": [
        "##### 5.2.2  Find and display the top 40 words by frequency among fake news in validation data after processing the text"
      ]
    },
    {
      "cell_type": "code",
      "execution_count": null,
      "metadata": {
        "id": "4gk6xTdSFu1X"
      },
      "outputs": [],
      "source": [
        "## Use a word cloud find the top 40 words by frequency among fake news after processing the text\n",
        "\n",
        "# Generate word cloud for Fake News\n"
      ]
    },
    {
      "cell_type": "markdown",
      "metadata": {
        "id": "dx0s2a7xOxKf"
      },
      "source": [
        "### **5.3** Find and display the top unigrams, bigrams and trigrams by frequency in true news and fake news after processing the text  \n",
        "\n",
        "\n",
        "\n"
      ]
    },
    {
      "cell_type": "markdown",
      "metadata": {
        "id": "z2xZKU0RO5ft"
      },
      "source": [
        "##### 5.3.1 Write a function to get the specified top n-grams"
      ]
    },
    {
      "cell_type": "code",
      "execution_count": null,
      "metadata": {
        "id": "g70ZFxcoOxS2"
      },
      "outputs": [],
      "source": [
        "## Write a function to get the specified top n-grams\n"
      ]
    },
    {
      "cell_type": "markdown",
      "metadata": {
        "id": "k8ud5-r7O7ut"
      },
      "source": [
        "##### 5.3.2 Handle the NaN values"
      ]
    },
    {
      "cell_type": "code",
      "execution_count": null,
      "metadata": {
        "id": "vsBu-aotPBJF"
      },
      "outputs": [],
      "source": [
        "## First handle NaN values in the text data\n"
      ]
    },
    {
      "cell_type": "markdown",
      "metadata": {
        "id": "0KVWcxoDPAiE"
      },
      "source": [
        "### For True News\n"
      ]
    },
    {
      "cell_type": "markdown",
      "metadata": {
        "id": "Am3uuIlU4wj1"
      },
      "source": [
        "\n",
        "##### 5.3.3 Display the top 10 unigrams by frequency in true news and plot them as a bar graph"
      ]
    },
    {
      "cell_type": "code",
      "execution_count": null,
      "metadata": {
        "id": "HKdpz-XmPGHD"
      },
      "outputs": [],
      "source": [
        "## Print the top 10 unigrams by frequency in true news and plot the same using a bar graph\n"
      ]
    },
    {
      "cell_type": "markdown",
      "metadata": {
        "id": "kiKrOL8rPLAs"
      },
      "source": [
        "##### 5.3.4 Display the top 10 bigrams by frequency in true news and plot them as a bar graph"
      ]
    },
    {
      "cell_type": "code",
      "execution_count": null,
      "metadata": {
        "id": "iuyYGnaNPLwq"
      },
      "outputs": [],
      "source": [
        "## Print the top 10 bigrams by frequency in true news and plot the same using a bar graph\n"
      ]
    },
    {
      "cell_type": "markdown",
      "metadata": {
        "id": "9f8_h-BiPOKb"
      },
      "source": [
        "##### 5.3.5 Display the top 10 trigrams by frequency in true news and plot them as a bar graph"
      ]
    },
    {
      "cell_type": "code",
      "execution_count": null,
      "metadata": {
        "id": "8lz-XS7qPQZj"
      },
      "outputs": [],
      "source": [
        "## Print the top 10 trigrams by frequency in true news and plot the same using a bar graph\n"
      ]
    },
    {
      "cell_type": "markdown",
      "metadata": {
        "id": "7MfApeGrd6Fl"
      },
      "source": [
        "### For Fake News"
      ]
    },
    {
      "cell_type": "markdown",
      "metadata": {
        "id": "_CH1csmZeGqh"
      },
      "source": [
        "##### 5.3.6 Display the top 10 unigrams by frequency in fake news and plot them as a bar graph"
      ]
    },
    {
      "cell_type": "code",
      "execution_count": null,
      "metadata": {
        "id": "w310WzGAeG4K"
      },
      "outputs": [],
      "source": [
        "## Print the top 10 unigrams by frequency in fake news and plot the same using a bar graph\n"
      ]
    },
    {
      "cell_type": "markdown",
      "metadata": {
        "id": "yFjOaPx7eHFw"
      },
      "source": [
        "##### 5.3.7 Display the top 10 bigrams by frequency in fake news and plot them as a bar graph"
      ]
    },
    {
      "cell_type": "code",
      "execution_count": null,
      "metadata": {
        "id": "ZuTqnjkIeHSJ"
      },
      "outputs": [],
      "source": [
        "## Print the top 10 bigrams by frequency in fake news and plot the same using a bar graph\n"
      ]
    },
    {
      "cell_type": "markdown",
      "metadata": {
        "id": "Vn_oiixheHf_"
      },
      "source": [
        "##### 5.3.8 Display the top 10 trigrams by frequency in fake news and plot them as a bar graph"
      ]
    },
    {
      "cell_type": "code",
      "execution_count": null,
      "metadata": {
        "id": "xduyO4gheHtI"
      },
      "outputs": [],
      "source": [
        "## Print the top 10 trigrams by frequency in fake news and plot the same using a bar graph\n"
      ]
    },
    {
      "cell_type": "markdown",
      "metadata": {
        "id": "k-I0k0QtJrGA"
      },
      "source": [
        "## **6.** Feature Extraction  <font color = red>[10 marks]</font> <br>\n",
        "\n",
        "For any ML model to perform classification on textual data, you need to convert it to a vector form. In this assignment, you will use the Word2Vec Vectorizer to create vectors from textual data. Word2Vec model captures the semantic relationship between words.\n"
      ]
    },
    {
      "cell_type": "markdown",
      "metadata": {
        "id": "09xy3mAbtZgZ"
      },
      "source": [
        "### **6.1** Initialise Word2Vec model  <font color = red>[2 marks]</font>"
      ]
    },
    {
      "cell_type": "code",
      "execution_count": null,
      "metadata": {
        "id": "Y8fGwaCPJrGA",
        "scrolled": true
      },
      "outputs": [],
      "source": [
        "## Write your code here to initialise the Word2Vec model by downloading \"word2vec-google-news-300\"\n"
      ]
    },
    {
      "cell_type": "markdown",
      "metadata": {
        "id": "yYzD85nTJrGA"
      },
      "source": [
        "### **6.2** Extract vectors for cleaned news data   <font color = red>[8 marks]</font>"
      ]
    },
    {
      "cell_type": "code",
      "execution_count": null,
      "metadata": {
        "id": "ffzdDpp_JrGB"
      },
      "outputs": [],
      "source": [
        "## Write your code here to extract the vectors from the Word2Vec model for both training and validation data\n",
        "\n",
        "\n",
        "## Extract the target variable for the training data and validation data\n"
      ]
    },
    {
      "cell_type": "markdown",
      "metadata": {
        "id": "7Q9lwvNEJrGB"
      },
      "source": [
        "## **7.** Model Training and Evaluation <font color = red>[45 marks]</font>\n",
        "\n",
        "You will use a set of supervised models to classify the news into true or fake."
      ]
    },
    {
      "cell_type": "markdown",
      "metadata": {
        "id": "sO16REK-xpq4"
      },
      "source": [
        "### **7.0** Import models and evaluation metrics"
      ]
    },
    {
      "cell_type": "code",
      "execution_count": null,
      "metadata": {
        "id": "k0BKoT3wxpq4"
      },
      "outputs": [],
      "source": [
        "from sklearn.linear_model import LogisticRegression\n",
        "from sklearn.tree import DecisionTreeClassifier\n",
        "from sklearn.ensemble import RandomForestClassifier\n",
        "from sklearn.metrics import accuracy_score, precision_score, recall_score, f1_score\n",
        "from sklearn.metrics import classification_report"
      ]
    },
    {
      "cell_type": "markdown",
      "metadata": {
        "id": "SLuHH1olZXQq"
      },
      "source": [
        "### **7.1** Build Logistic Regression Model  <font color = red>[15 marks]</font>"
      ]
    },
    {
      "cell_type": "markdown",
      "metadata": {
        "id": "b1ItmvvGwduv"
      },
      "source": [
        "##### 7.1.1 Create and train logistic regression model on training data  <font color = red>[10 marks]</font>"
      ]
    },
    {
      "cell_type": "code",
      "execution_count": null,
      "metadata": {
        "id": "wzXd3YSu5eyY"
      },
      "outputs": [],
      "source": [
        "## Initialise Logistic Regression model\n",
        "\n",
        "## Train Logistic Regression model on training data\n",
        "\n",
        "## Predict on validation data\n"
      ]
    },
    {
      "cell_type": "markdown",
      "metadata": {
        "id": "BvNKC8ob8IAL"
      },
      "source": [
        "##### 7.1.2 Calculate and print accuracy, precision, recall and f1-score on validation data <font color = red>[5 marks]</font>"
      ]
    },
    {
      "cell_type": "code",
      "execution_count": null,
      "metadata": {
        "id": "BEyQcSoWo4xs"
      },
      "outputs": [],
      "source": [
        "## Calculate and print accuracy, precision, recall, f1-score on predicted labels\n"
      ]
    },
    {
      "cell_type": "code",
      "execution_count": null,
      "metadata": {
        "id": "T6P4MA_AC216"
      },
      "outputs": [],
      "source": [
        "# Classification Report\n"
      ]
    },
    {
      "cell_type": "markdown",
      "metadata": {
        "id": "TRGPMQZd8r8B"
      },
      "source": [
        "### **7.2** Build Decision Tree Model <font color = red>[15 marks]</font>"
      ]
    },
    {
      "cell_type": "markdown",
      "metadata": {
        "id": "Rgv4vqrt81sH"
      },
      "source": [
        "##### 7.2.1 Create and train a decision tree model on training data <font color = red>[10 marks]</font>"
      ]
    },
    {
      "cell_type": "code",
      "execution_count": null,
      "metadata": {
        "id": "i-mTab94xpq4"
      },
      "outputs": [],
      "source": [
        "## Initialise Decision Tree model\n",
        "\n",
        "## Train Decision Tree model on training data\n",
        "\n",
        "## Predict on validation data\n"
      ]
    },
    {
      "cell_type": "markdown",
      "metadata": {
        "id": "vZ_Vj5fs6w9I"
      },
      "source": [
        "##### 7.2.2 Calculate and print accuracy, precision, recall and f1-score on validation data <font color = red>[5 marks]</font>"
      ]
    },
    {
      "cell_type": "code",
      "execution_count": null,
      "metadata": {
        "id": "15iYiCQhp7jo"
      },
      "outputs": [],
      "source": [
        "## Calculate and print accuracy, precision, recall, f1-score on predicted labels\n"
      ]
    },
    {
      "cell_type": "code",
      "execution_count": null,
      "metadata": {
        "id": "DohNckxxxpq4"
      },
      "outputs": [],
      "source": [
        "# Classification Report\n"
      ]
    },
    {
      "cell_type": "markdown",
      "metadata": {
        "id": "xnB_P9kd9EdC"
      },
      "source": [
        "### **7.3** Build Random Forest Model <font color = red>[15 marks]</font>\n"
      ]
    },
    {
      "cell_type": "markdown",
      "metadata": {
        "id": "DhW0nyU29In9"
      },
      "source": [
        "##### 7.3.1 Create and train a random forest model on training data <font color = red>[10 marks]</font>"
      ]
    },
    {
      "cell_type": "code",
      "execution_count": null,
      "metadata": {
        "id": "uIvY9-oPxpq4"
      },
      "outputs": [],
      "source": [
        "## Initialise Random Forest model\n",
        "\n",
        "## Train Random Forest model on training data\n",
        "\n",
        "## Predict on validation data\n"
      ]
    },
    {
      "cell_type": "markdown",
      "metadata": {
        "id": "RRBxZieM7eea"
      },
      "source": [
        " ##### 7.3.2 Calculate and print accuracy, precision, recall and f1-score on validation data <font color = red>[5 marks]</font>"
      ]
    },
    {
      "cell_type": "code",
      "execution_count": null,
      "metadata": {
        "id": "VzNK3jcCq01-"
      },
      "outputs": [],
      "source": [
        "## Calculate and print accuracy, precision, recall, f1-score on predicted labels\n"
      ]
    },
    {
      "cell_type": "code",
      "execution_count": null,
      "metadata": {
        "id": "VIBCo_kFxpq4"
      },
      "outputs": [],
      "source": [
        "# Classification Report\n"
      ]
    },
    {
      "cell_type": "markdown",
      "source": [
        "## **8.** Conclusion <font color = red>[5 marks]</font>\n",
        "\n",
        "Summarise your findings by discussing patterns observed in true and fake news and how semantic classification addressed the problem. Highlight the best model chosen, the evaluation metric prioritised for the decision, and assess the approach and its impact."
      ],
      "metadata": {
        "id": "Lnj7RUDDSEJX"
      }
    }
  ],
  "metadata": {
    "colab": {
      "provenance": []
    },
    "kernelspec": {
      "display_name": "Python 3 (ipykernel)",
      "language": "python",
      "name": "python3"
    },
    "language_info": {
      "codemirror_mode": {
        "name": "ipython",
        "version": 3
      },
      "file_extension": ".py",
      "mimetype": "text/x-python",
      "name": "python",
      "nbconvert_exporter": "python",
      "pygments_lexer": "ipython3",
      "version": "3.12.4"
    }
  },
  "nbformat": 4,
  "nbformat_minor": 0
}