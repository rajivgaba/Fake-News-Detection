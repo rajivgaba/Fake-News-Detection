{
  "cells": [
    {
      "cell_type": "markdown",
      "metadata": {
        "id": "rhR-ZUkwJrFn"
      },
      "source": [
        "# Fake News Detection\n",
        "\n",
        "\n"
      ]
    },
    {
      "cell_type": "markdown",
      "metadata": {
        "id": "hXeHUV5fJGiZ"
      },
      "source": [
        "## Objective\n"
      ]
    },
    {
      "cell_type": "markdown",
      "metadata": {
        "id": "kX73YZdgJIgF"
      },
      "source": [
        "The objective of this assignment is to develop a Semantic Classification model. You will be using Word2Vec method to extract the semantic relations from the text and develop a basic understanding of how to train supervised models to categorise text based on its meaning, rather than just syntax. You will explore how this technique is used in situations where understanding textual meaning plays a critical role in making accurate and efficient decisions.\n"
      ]
    },
    {
      "cell_type": "markdown",
      "source": [
        "## Business Objective\n",
        "\n",
        "The spread of fake news has become a significant challenge in today’s digital world. With the massive volume of news articles published daily, it’s becoming harder to distinguish between credible and misleading information. This creates a need for systems that can automatically classify news articles as true or fake, helping to reduce misinformation and protect public trust.\n",
        "\n",
        "\n",
        "In this assignment, you will develop a Semantic Classification model that uses the Word2Vec method to detect recurring patterns and themes in news articles. Using supervised learning models, the goal is to build a system that classifies news articles as either fake or true.\n"
      ],
      "metadata": {
        "id": "Gg_J6K8Xxfk2"
      }
    },
    {
      "cell_type": "markdown",
      "metadata": {
        "id": "ySqxOckxI4-F"
      },
      "source": [
        "<h2> Pipelines that needs to be performed </h2>\n",
        "\n",
        "You need to perform the following tasks to complete the assignment:\n",
        "\n",
        "<ol type=\"1\">\n",
        "\n",
        "  <li> Data Preparation\n",
        "  <li> Text Preprocessing\n",
        "  <li> Train Validation Split\n",
        "  <li> EDA on Training Data\n",
        "  <li> EDA on Validation Data [Optional]\n",
        "  <li> Feature Extraction\n",
        "  <li> Model Training and Evaluation\n",
        "\n",
        "</ol>"
      ]
    },
    {
      "cell_type": "markdown",
      "metadata": {
        "id": "gTxV-3GJUhWm"
      },
      "source": [
        "---"
      ]
    },
    {
      "cell_type": "markdown",
      "metadata": {
        "id": "ofebI8ITG-Li"
      },
      "source": [
        "**NOTE:** The marks given along with headings and sub-headings are cumulative marks for those particular headings/sub-headings.<br>\n",
        "\n",
        "The actual marks for each task are specified within the tasks themselves.\n",
        "\n",
        "For example, marks given with heading *2* or sub-heading *2.1* are the cumulative marks, for your reference only. <br>\n",
        "\n",
        "The marks you will receive for completing tasks are given with the tasks.\n",
        "\n",
        "Suppose the marks for two tasks are: 3 marks for 2.1.1 and 2 marks for 3.2.2, or\n",
        "* 2.1.1 [3 marks]\n",
        "* 3.2.2 [2 marks]\n",
        "\n",
        "then, you will earn 3 marks for completing task 2.1.1 and 2 marks for completing task 3.2.2.\n"
      ]
    },
    {
      "cell_type": "markdown",
      "metadata": {
        "id": "YdQjht7dUiHt"
      },
      "source": [
        "---"
      ]
    },
    {
      "cell_type": "markdown",
      "metadata": {
        "id": "8b1lNTpKF54T"
      },
      "source": [
        "## Data Dictionary\n"
      ]
    },
    {
      "cell_type": "markdown",
      "metadata": {
        "id": "43j_A_GsI9TS"
      },
      "source": [
        "For this assignment, you will work with two datasets, `True.csv` and `Fake.csv`.\n",
        "Both datasets contain three columns:\n",
        "<ul>\n",
        "  <li> title of the news article\n",
        "  <li> text of the news article\n",
        "  <li> date of article publication\n",
        "</ul>\n",
        "\n",
        "`True.csv` dataset includes 21,417 true news, while the `Fake.csv` dataset comprises 23,502 fake news."
      ]
    },
    {
      "cell_type": "markdown",
      "metadata": {
        "id": "_oTQwQ_Rh4nT"
      },
      "source": [
        "## Installing required Libraries"
      ]
    },
    {
      "cell_type": "code",
      "execution_count": null,
      "metadata": {
        "id": "lIY57QOLiCA2",
        "scrolled": true
      },
      "outputs": [],
      "source": [
        "!pip install --upgrade numpy==1.26.4\n",
        "!pip install --upgrade pandas==2.2.2\n",
        "!pip install --upgrade nltk==3.9.1\n",
        "!pip install --upgrade spacy==3.7.5\n",
        "!pip install --upgrade scipy==1.12\n",
        "!pip install --upgrade pydantic==2.10.5\n",
        "!pip install wordcloud==1.9.4\n",
        "!python -m spacy download en_core_web_sm"
      ]
    },
    {
      "cell_type": "markdown",
      "metadata": {
        "id": "JuLFIymAL58u"
      },
      "source": [
        "## Importing the necessary libraries"
      ]
    },
    {
      "cell_type": "code",
      "execution_count": null,
      "metadata": {
        "id": "O-Q9pqrcJrFr"
      },
      "outputs": [],
      "source": [
        "# Import essential libraries for data manipulation and analysis\n",
        "import numpy as np  # For numerical operations and arrays\n",
        "import pandas as pd  # For working with dataframes and structured data\n",
        "import re  # For regular expression operations (text processing)\n",
        "import nltk  # Natural Language Toolkit for text processing\n",
        "import spacy  # For advanced NLP tasks\n",
        "import string  # For handling string-related operations\n",
        "\n",
        "# Optional: Uncomment the line below to enable GPU support for spaCy (if you have a compatible GPU)\n",
        "#spacy.require_gpu()\n",
        "\n",
        "# Load the spaCy small English language model\n",
        "nlp = spacy.load(\"en_core_web_sm\")\n",
        "\n",
        "# For data visualization\n",
        "import seaborn as sns  # Data visualization library for statistical graphics\n",
        "import matplotlib.pyplot as plt  # Matplotlib for creating static plots\n",
        "# Configure Matplotlib to display plots inline in Jupyter Notebook\n",
        "%matplotlib inline\n",
        "\n",
        "# Suppress unnecessary warnings to keep output clean\n",
        "import warnings\n",
        "warnings.filterwarnings('ignore')\n",
        "\n",
        "# For interactive plots\n",
        "from plotly.offline import plot  # Enables offline plotting with Plotly\n",
        "import plotly.graph_objects as go  # For creating customizable Plotly plots\n",
        "import plotly.express as px  # A high-level interface for Plotly\n",
        "\n",
        "# For preprocessing and feature extraction in machine learning\n",
        "from sklearn.feature_extraction.text import (  # Methods for text vectorization\n",
        "    CountVectorizer,  # Converts text into a bag-of-words model\n",
        ")\n",
        "\n",
        "# Import accuracy, precision, recall, f_score from sklearn to predict train accuracy\n",
        "from sklearn.metrics import accuracy_score, precision_score, recall_score, f1_score\n",
        "\n",
        "# Pretty printing for better readability of output\n",
        "from pprint import pprint\n",
        "\n",
        "# For progress tracking in loops (useful for larger datasets)\n",
        "from tqdm import tqdm, tqdm_notebook  # Progress bar for loops\n",
        "tqdm.pandas()  # Enables progress bars for pandas operations\n"
      ]
    },
    {
      "cell_type": "code",
      "execution_count": null,
      "metadata": {
        "id": "s8Le3OfjI666"
      },
      "outputs": [],
      "source": [
        "## Change the display properties of pandas to max\n",
        "# pd.set_option('display.max_colwidth', None)\n",
        "# pd.set_option('display.max_columns', None)\n",
        "# pd.set_option('display.max_rows', None)"
      ]
    },
    {
      "cell_type": "markdown",
      "metadata": {
        "id": "KtRLCsNVJrFt"
      },
      "source": [
        "## Load the data\n",
        "\n",
        "Load the True.csv and Fake.csv files as DataFrames"
      ]
    },
    {
      "cell_type": "code",
      "execution_count": null,
      "metadata": {
        "id": "puVzIf_iJrFt"
      },
      "outputs": [],
      "source": [
        "# Import the first file - True.csv\n",
        "\n",
        "# Import the second file - Fake.csv\n"
      ]
    },
    {
      "cell_type": "markdown",
      "metadata": {
        "id": "_xYpH-sAJrFu"
      },
      "source": [
        "## **1.** Data Preparation  <font color = red>[10 marks]</font>\n",
        "\n",
        "\n",
        "\n"
      ]
    },
    {
      "cell_type": "markdown",
      "metadata": {
        "id": "A2fTeYJImEv7"
      },
      "source": [
        "### **1.0** Data Understanding"
      ]
    },
    {
      "cell_type": "code",
      "execution_count": null,
      "metadata": {
        "id": "Lf8ufHH5JrFu"
      },
      "outputs": [],
      "source": [
        "# Inspect the DataFrame with True News to understand the given data\n"
      ]
    },
    {
      "cell_type": "code",
      "execution_count": null,
      "metadata": {
        "id": "gI7X0Voh6h7r"
      },
      "outputs": [],
      "source": [
        "# Inspect the DataFrame with Fake News to understand the given data\n"
      ]
    },
    {
      "cell_type": "code",
      "execution_count": null,
      "metadata": {
        "id": "Dwcty-wmJrFw"
      },
      "outputs": [],
      "source": [
        "# Print the column details for True News DataFrame\n"
      ]
    },
    {
      "cell_type": "code",
      "execution_count": null,
      "metadata": {
        "id": "EPLAnUMjjzQ4"
      },
      "outputs": [],
      "source": [
        "# Print the column details for Fake News Dataframe\n"
      ]
    },
    {
      "cell_type": "code",
      "execution_count": null,
      "metadata": {
        "id": "dyuDFzPkI67B"
      },
      "outputs": [],
      "source": [
        "# Print the column names of both DataFrames\n"
      ]
    },
    {
      "cell_type": "markdown",
      "metadata": {
        "id": "h2fff1S7hq5h"
      },
      "source": [
        "### **1.1** Add new column  <font color = red>[3 marks]</font> <br>\n",
        "\n",
        "Add new column `news_label` to both the DataFrames and assign labels"
      ]
    },
    {
      "cell_type": "code",
      "execution_count": null,
      "metadata": {
        "id": "YOu_KhbH78du"
      },
      "outputs": [],
      "source": [
        "# Add a new column 'news_label' to the true news DataFrame and assign the label \"1\" to indicate that these news are true\n",
        "\n",
        "# Add a new column 'news_label' to the fake news DataFrame and assign the label \"0\" to indicate that these news are fake\n"
      ]
    },
    {
      "cell_type": "markdown",
      "metadata": {
        "id": "UShuo3h54DAh"
      },
      "source": [
        "### **1.2** Merge DataFrames  <font color = red>[2 marks]</font> <br>\n",
        "\n",
        "Create a new Dataframe by merging True and Fake DataFrames"
      ]
    },
    {
      "cell_type": "code",
      "execution_count": null,
      "metadata": {
        "id": "5GX_QMy04M4-"
      },
      "outputs": [],
      "source": [
        "# Combine the true and fake news DataFrames into a single DataFrame\n"
      ]
    },
    {
      "cell_type": "code",
      "execution_count": null,
      "metadata": {
        "id": "FYCtKXD1JrFw"
      },
      "outputs": [],
      "source": [
        "# Display the first 5 rows of the combined DataFrame to verify the result\n"
      ]
    },
    {
      "cell_type": "markdown",
      "metadata": {
        "id": "IphUaBu3oFZK"
      },
      "source": [
        "### **1.3** Handle the null values  <font color = red>[2 marks]</font> <br>\n",
        "\n",
        "Check for null values and handle it by imputation or dropping the null values"
      ]
    },
    {
      "cell_type": "code",
      "execution_count": null,
      "metadata": {
        "id": "4FRDxOo6r51j"
      },
      "outputs": [],
      "source": [
        "# Check Presence of Null Values\n"
      ]
    },
    {
      "cell_type": "code",
      "execution_count": null,
      "metadata": {
        "id": "eiwvoyfYr6EB"
      },
      "outputs": [],
      "source": [
        "# Handle Rows with Null Values\n"
      ]
    },
    {
      "cell_type": "markdown",
      "metadata": {
        "id": "kDyPvMITooWA"
      },
      "source": [
        "### **1.4** Merge the relevant columns and drop the rest from the DataFrame  <font color = red>[3 marks]</font> <br>\n",
        "\n",
        "Combine the relevant columns into a new column `news_text` and then drop irrelevant columns from the DataFrame"
      ]
    },
    {
      "cell_type": "code",
      "execution_count": null,
      "metadata": {
        "id": "u9VI48jS_HTy"
      },
      "outputs": [],
      "source": [
        "# Combine the relevant columns into a new column 'news_text' by joining their values with a space\n",
        "\n",
        "# Drop the irrelevant columns from the DataFrame as they are no longer needed\n",
        "\n",
        "# Display the first 5 rows of the updated DataFrame to check the result\n"
      ]
    },
    {
      "cell_type": "markdown",
      "metadata": {
        "id": "L944HZpsJrFy"
      },
      "source": [
        "## **2.** Text Preprocessing <font color = red>[15 marks]</font> <br>\n",
        "\n",
        "\n",
        "\n",
        "\n",
        "\n",
        "\n",
        "On all the news text, you need to:\n",
        "<ol type=1>\n",
        "  <li> Make the text lowercase\n",
        "  <li> Remove text in square brackets\n",
        "  <li> Remove punctuation\n",
        "  <li> Remove words containing numbers\n",
        "</ol>\n",
        "\n",
        "\n",
        "Once you have done these cleaning operations you need to perform POS tagging and lemmatization on the cleaned news text, and remove all words that are not tagged as NN or NNS."
      ]
    },
    {
      "cell_type": "markdown",
      "metadata": {
        "id": "_-6VW3V3jx1A"
      },
      "source": [
        "### **2.1** Text Cleaning  <font color = red>[5 marks]</font> <br>\n",
        "\n"
      ]
    },
    {
      "cell_type": "markdown",
      "metadata": {
        "id": "78OZs7P4kp41"
      },
      "source": [
        "#### 2.1.0 Create a new DataFrame to store the processed data\n",
        "\n"
      ]
    },
    {
      "cell_type": "code",
      "execution_count": null,
      "metadata": {
        "id": "uXnN7aa_JrF0"
      },
      "outputs": [],
      "source": [
        "# Create a DataFrame('df_clean') that will have only the cleaned news text and the lemmatized news text with POS tags removed\n",
        "\n",
        "# Add 'news_label' column to the new dataframe for topic identification\n"
      ]
    },
    {
      "cell_type": "markdown",
      "metadata": {
        "id": "hsf00J83mdNL"
      },
      "source": [
        "#### 2.1.1 Write the function to clean the text and remove all the unnecessary elements  <font color = red>[4 marks]</font> <br>\n",
        "\n"
      ]
    },
    {
      "cell_type": "code",
      "execution_count": null,
      "metadata": {
        "id": "qm7SjjSkJrFz"
      },
      "outputs": [],
      "source": [
        "# Write the function here to clean the text and remove all the unnecessary elements\n",
        "\n",
        "# Convert to lower case\n",
        "\n",
        "# Remove text in square brackets\n",
        "\n",
        "# Remove punctuation\n",
        "\n",
        "# Remove words with numbers\n"
      ]
    },
    {
      "cell_type": "markdown",
      "metadata": {
        "id": "dDFMNnrdkUvd"
      },
      "source": [
        "#### 2.1.2  Apply the function to clean the news text and store the cleaned text in a new column within the new DataFrame. <font color = red>[1 mark]</font> <br>\n"
      ]
    },
    {
      "cell_type": "code",
      "execution_count": null,
      "metadata": {
        "id": "nOiDVvEIJrF0"
      },
      "outputs": [],
      "source": [
        "# Apply the function to clean the news text and remove all unnecessary elements\n",
        "# Store it in a separate column in the new DataFrame\n"
      ]
    },
    {
      "cell_type": "markdown",
      "metadata": {
        "id": "MSAVnSelkF9d"
      },
      "source": [
        "### **2.2** POS Tagging and Lemmatization  <font color = red>[10 marks]</font> <br>\n",
        "\n"
      ]
    },
    {
      "cell_type": "markdown",
      "metadata": {
        "id": "QCqNHDL2mHok"
      },
      "source": [
        "#### 2.2.1 Write the function for POS tagging and lemmatization, filtering stopwords and keeping only NN and NNS tags <font color = red>[8 marks]</font> <br>\n",
        "\n"
      ]
    },
    {
      "cell_type": "code",
      "execution_count": null,
      "metadata": {
        "id": "zgOu8t8HJrFz"
      },
      "outputs": [],
      "source": [
        "# Write the function for POS tagging and lemmatization, filtering stopwords and keeping only NN and NNS tags\n"
      ]
    },
    {
      "cell_type": "markdown",
      "metadata": {
        "id": "_T3So7PXlibT"
      },
      "source": [
        "#### 2.2.2  Apply the POS tagging and lemmatization function to cleaned text and store it in a new column within the new DataFrame. <font color = red>[2 mark]</font> <br>\n",
        "\n",
        "**NOTE: Store the cleaned text and the lemmatized text with POS tags removed in separate columns within the new DataFrame.**\n",
        "\n",
        "**This will be useful for analysing character length differences between cleaned text and lemmatized text with POS tags removed during EDA.**\n"
      ]
    },
    {
      "cell_type": "code",
      "execution_count": null,
      "metadata": {
        "id": "L9FWmibNI67F"
      },
      "outputs": [],
      "source": [
        "# Apply POS tagging and lemmatization function to cleaned text\n",
        "# Store it in a separate column in the new DataFrame\n"
      ]
    },
    {
      "cell_type": "markdown",
      "metadata": {
        "id": "BMc5kjeqnX9b"
      },
      "source": [
        "### Save the Cleaned data as a csv file (Recommended)"
      ]
    },
    {
      "cell_type": "code",
      "execution_count": null,
      "metadata": {
        "id": "fTjNG5xfnlwm"
      },
      "outputs": [],
      "source": [
        "## Recommended to perform the below steps to save time while rerunning the code\n",
        "# df_clean.to_csv(\"clean_df.csv\", index=False)\n",
        "# df_clean = pd.read_csv(\"clean_df.csv\")"
      ]
    },
    {
      "cell_type": "code",
      "execution_count": null,
      "metadata": {
        "id": "0M0LseVjneMv"
      },
      "outputs": [],
      "source": [
        "# Check the first few rows of the DataFrame\n"
      ]
    },
    {
      "cell_type": "code",
      "execution_count": null,
      "metadata": {
        "id": "lDZq_T3FYuOi"
      },
      "outputs": [],
      "source": [
        "# Check the dimensions of the DataFrame\n"
      ]
    },
    {
      "cell_type": "code",
      "execution_count": null,
      "metadata": {
        "id": "ah1aJPmiAqWz"
      },
      "outputs": [],
      "source": [
        "# Check the number of non-null entries and data types of each column\n"
      ]
    },
    {
      "cell_type": "markdown",
      "metadata": {
        "id": "XMzqKme_2QQ0"
      },
      "source": [
        "## **3.** Train Validation Split <font color = red>[5 marks]</font> <br>"
      ]
    },
    {
      "cell_type": "code",
      "execution_count": null,
      "metadata": {
        "id": "jmx_W7Ty2PlK"
      },
      "outputs": [],
      "source": [
        "# Import Train Test Split and split the DataFrame into 70% train and 30% validation data\n"
      ]
    },
    {
      "cell_type": "markdown",
      "metadata": {
        "id": "_7Un1AElJrF2"
      },
      "source": [
        "## **4.** Exploratory Data Analysis on Training Data  <font color = red>[40 marks]</font> <br>\n",
        "\n",
        "Perform EDA on cleaned and preprocessed texts to get familiar with the training data by performing the tasks given below:\n",
        "\n",
        "<ul>\n",
        "  <li> Visualise the training data according to the character length of cleaned news text and lemmatized news text with POS tags removed\n",
        "  <li> Using a word cloud, find the top 40 words by frequency in true and fake news separately\n",
        "  <li> Find the top unigrams, bigrams and trigrams by frequency in true and fake news separately\n",
        "</ul>\n",
        "\n",
        "\n",
        "\n"
      ]
    },
    {
      "cell_type": "markdown",
      "metadata": {
        "id": "rOZ7yZ4Fp1cp"
      },
      "source": [
        "### **4.1** Visualise character lengths of cleaned news text and lemmatized news text with POS tags removed  <font color = red>[10 marks]</font> <br>\n",
        "\n"
      ]
    },
    {
      "cell_type": "markdown",
      "metadata": {
        "id": "UCI4DbZWpQ7n"
      },
      "source": [
        "##### 4.1.1  Add new columns to calculate the character lengths of the processed data columns  <font color = red>[3 marks]</font> <br>\n",
        "\n"
      ]
    },
    {
      "cell_type": "code",
      "execution_count": null,
      "metadata": {
        "id": "HifHm5rxpaxZ"
      },
      "outputs": [],
      "source": [
        "# Add a new column to calculate the character length of cleaned news text\n",
        "\n",
        "# Add a new column to calculate the character length of lemmatized news text with POS tags removed\n"
      ]
    },
    {
      "cell_type": "markdown",
      "metadata": {
        "id": "U1JvT8lNpbFe"
      },
      "source": [
        "##### 4.1.2  Create Histogram to visualise character lengths  <font color = red>[7 marks]</font> <br>\n",
        "\n",
        " Plot both distributions on the same graph for comparison and to observe overlaps and peak differences to understand text preprocessing's impact on text length."
      ]
    },
    {
      "cell_type": "code",
      "execution_count": null,
      "metadata": {
        "id": "q-zaqJF6JrF2"
      },
      "outputs": [],
      "source": [
        "# Create a histogram plot to visualise character lengths\n",
        "\n",
        "# Add histogram for cleaned news text\n",
        "\n",
        "# Add histogram for lemmatized news text with POS tags removed\n"
      ]
    },
    {
      "cell_type": "markdown",
      "metadata": {
        "id": "T9jD_6SeJrF3"
      },
      "source": [
        "### **4.2** Find and display the top 40 words by frequency among true and fake news in Training data after processing the text  <font color = red>[10 marks]</font> <br>\n",
        "\n"
      ]
    },
    {
      "cell_type": "markdown",
      "metadata": {
        "id": "n320yzDiEUH4"
      },
      "source": [
        "##### 4.2.1 Find and display the top 40 words by frequency among true news in Training data after processing the text  <font color = red>[5 marks]</font> <br>"
      ]
    },
    {
      "cell_type": "code",
      "execution_count": null,
      "metadata": {
        "id": "QcfdvtfZJrF3"
      },
      "outputs": [],
      "source": [
        "## Use a word cloud find the top 40 words by frequency among true news in the training data after processing the text\n",
        "\n",
        "# Filter news with label 1 (True News) and convert to it string and handle any non-string values\n",
        "\n",
        "# Generate word cloud for True News\n"
      ]
    },
    {
      "cell_type": "markdown",
      "metadata": {
        "id": "LbHtjWzbEj__"
      },
      "source": [
        "##### 4.2.2 Find and display the top 40 words by frequency among fake news in Training data after processing the text  <font color = red>[5 marks]</font> <br>"
      ]
    },
    {
      "cell_type": "code",
      "execution_count": null,
      "metadata": {
        "id": "MOFoDEscEkMO"
      },
      "outputs": [],
      "source": [
        "## Use a word cloud find the top 40 words by frequency among fake news in the training data after processing the text\n",
        "\n",
        "# Filter news with label 0 (Fake News) and convert to it string and handle any non-string values\n",
        "\n",
        "# Generate word cloud for Fake News\n"
      ]
    },
    {
      "cell_type": "markdown",
      "metadata": {
        "id": "5DfCSbbmJrF4"
      },
      "source": [
        "### **4.3** Find and display the top unigrams, bigrams and trigrams by frequency in true news and fake news after processing the text  <font color = red>[20 marks]</font> <br>\n",
        "\n",
        "\n"
      ]
    },
    {
      "cell_type": "markdown",
      "metadata": {
        "id": "ApGagSppsAyL"
      },
      "source": [
        "##### 4.3.1 Write a function to get the specified top n-grams  <font color = red>[4 marks]</font> <br>\n",
        "\n"
      ]
    },
    {
      "cell_type": "code",
      "execution_count": null,
      "metadata": {
        "id": "5mbk5DS5JrF4"
      },
      "outputs": [],
      "source": [
        "# Write a function to get the specified top n-grams\n"
      ]
    },
    {
      "cell_type": "markdown",
      "metadata": {
        "id": "ZHcBL7vRsM4I"
      },
      "source": [
        "##### 4.3.2 Handle the NaN values  <font color = red>[1 mark]</font> <br>\n",
        "\n"
      ]
    },
    {
      "cell_type": "code",
      "execution_count": null,
      "metadata": {
        "id": "3Ks69UQGCXpw"
      },
      "outputs": [],
      "source": [
        "# Handle NaN values in the text data\n"
      ]
    },
    {
      "cell_type": "markdown",
      "metadata": {
        "id": "caioIgIEsfh2"
      },
      "source": [
        "### For True News\n",
        "\n",
        "\n"
      ]
    },
    {
      "cell_type": "markdown",
      "metadata": {
        "id": "QYB2ZXZ83fjo"
      },
      "source": [
        "##### 4.3.3 Display the top 10 unigrams by frequency in true news and plot them as a bar graph  <font color = red>[2.5 marks]</font> <br>"
      ]
    },
    {
      "cell_type": "code",
      "execution_count": null,
      "metadata": {
        "id": "YX7fedm1JrF8"
      },
      "outputs": [],
      "source": [
        "# Print the top 10 unigrams by frequency in true news and plot the same using a bar graph\n"
      ]
    },
    {
      "cell_type": "markdown",
      "metadata": {
        "id": "y3Q7wQnnsvOE"
      },
      "source": [
        "##### 4.3.4 Display the top 10 bigrams by frequency in true news and plot them as a bar graph  <font color = red>[2.5 marks]</font> <br>\n",
        "\n"
      ]
    },
    {
      "cell_type": "code",
      "execution_count": null,
      "metadata": {
        "id": "aV7kD7w8JrF8"
      },
      "outputs": [],
      "source": [
        "# Print the top 10 bigrams by frequency in true news and plot the same using a bar graph\n"
      ]
    },
    {
      "cell_type": "markdown",
      "metadata": {
        "id": "opdM04-Bs_Bg"
      },
      "source": [
        "##### 4.3.5 Display the top 10 trigrams by frequency in true news and plot them as a bar graph  <font color = red>[2.5 marks]</font> <br>\n",
        "\n"
      ]
    },
    {
      "cell_type": "code",
      "execution_count": null,
      "metadata": {
        "id": "Xkh7vtbtJrF-"
      },
      "outputs": [],
      "source": [
        "# Print the top 10 trigrams by frequency in true news and plot the same using a bar graph\n"
      ]
    },
    {
      "cell_type": "markdown",
      "metadata": {
        "id": "prNx2Sm0WGEj"
      },
      "source": [
        "### For Fake News\n",
        "\n",
        "\n",
        "\n",
        "\n",
        "\n"
      ]
    },
    {
      "cell_type": "markdown",
      "metadata": {
        "id": "obBKlBVK3mfX"
      },
      "source": [
        "##### 4.3.6 Display the top 10 unigrams by frequency in fake news and plot them as a bar graph  <font color = red>[2.5 marks]</font> <br>"
      ]
    },
    {
      "cell_type": "code",
      "execution_count": null,
      "metadata": {
        "id": "1qKDzoSIWGXp"
      },
      "outputs": [],
      "source": [
        "# Print the top 10 unigrams by frequency in fake news and plot the same using a bar graph\n"
      ]
    },
    {
      "cell_type": "markdown",
      "metadata": {
        "id": "bSlMnmqcYsNw"
      },
      "source": [
        "##### 4.3.7 Display the top 10 bigrams by frequency in fake news and plot them as a bar graph  <font color = red>[2.5 marks]</font> <br>\n",
        "\n"
      ]
    },
    {
      "cell_type": "code",
      "execution_count": null,
      "metadata": {
        "id": "r5xUk_r9Wa0f"
      },
      "outputs": [],
      "source": [
        "# Print the top 10 bigrams by frequency in fake news and plot the same using a bar graph\n"
      ]
    },
    {
      "cell_type": "markdown",
      "metadata": {
        "id": "i08WYIwPYs6R"
      },
      "source": [
        "##### 4.3.8 Display the top 10 trigrams by frequency in fake news and plot them as a bar graph  <font color = red>[2.5 marks]</font> <br>\n",
        "\n"
      ]
    },
    {
      "cell_type": "code",
      "execution_count": null,
      "metadata": {
        "id": "6nT9a1EvWa-s"
      },
      "outputs": [],
      "source": [
        "# Print the top 10 trigrams by frequency in fake news and plot the same using a bar graph\n"
      ]
    },
    {
      "cell_type": "markdown",
      "metadata": {
        "id": "2VsOO_oHN8-_"
      },
      "source": [
        "## **5.** Exploratory Data Analysis on Validation Data [Optional]\n",
        "\n",
        "Perform EDA on validation data to differentiate EDA on training data with EDA on validation data and the tasks are given below:\n",
        "\n",
        "<ul>\n",
        "  <li> Visualise the data according to the character length of cleaned news text and lemmatized text with POS tags removed\n",
        "  <li> Using a word cloud find the top 40 words by frequency in true and fake news separately\n",
        "  <li> Find the top unigrams, bigrams and trigrams by frequency in true and fake news separately\n",
        "</ul>\n",
        "\n",
        "\n",
        "\n"
      ]
    },
    {
      "cell_type": "markdown",
      "metadata": {
        "id": "jNkif5wrONfI"
      },
      "source": [
        "### **5.1** Visualise character lengths of cleaned news text and lemmatized news text with POS tags removed"
      ]
    },
    {
      "cell_type": "markdown",
      "metadata": {
        "id": "gAhwSWBWOTIj"
      },
      "source": [
        "##### 5.1.1  Add new columns to calculate the character lengths of the processed data columns"
      ]
    },
    {
      "cell_type": "code",
      "execution_count": null,
      "metadata": {
        "id": "6hYYTrdHORAs"
      },
      "outputs": [],
      "source": [
        "# Add a new column to calculate the character length of cleaned news text\n",
        "\n",
        "# Add a new column to calculate the character length of lemmatized news text with POS tags removed\n"
      ]
    },
    {
      "cell_type": "markdown",
      "metadata": {
        "id": "VRILiD8hOX5q"
      },
      "source": [
        "##### 5.1.2  Create Histogram to visualise character lengths\n",
        "\n",
        "Plot both distributions on the same graph for comparison and to observe overlaps and peak differences to understand text preprocessing's impact on text length."
      ]
    },
    {
      "cell_type": "code",
      "execution_count": null,
      "metadata": {
        "id": "j7LLOXC0Oaix"
      },
      "outputs": [],
      "source": [
        "# Create a histogram plot to visualise character lengths\n",
        "\n",
        "# Add histogram for cleaned news text\n",
        "\n",
        "# Add histogram for lemmatized news text with POS tags removed\n"
      ]
    },
    {
      "cell_type": "markdown",
      "metadata": {
        "id": "nPxa0JrvOwFu"
      },
      "source": [
        "### **5.2** Find and display the top 40 words by frequency among true and fake news after processing the text"
      ]
    },
    {
      "cell_type": "markdown",
      "metadata": {
        "id": "uOZRD8vaFt2h"
      },
      "source": [
        "##### 5.2.1  Find and display the top 40 words by frequency among true news in validation data after processing the text"
      ]
    },
    {
      "cell_type": "code",
      "execution_count": null,
      "metadata": {
        "id": "6_9UVs4WOw0_"
      },
      "outputs": [],
      "source": [
        "## Use a word cloud find the top 40 words by frequency among true news after processing the text\n",
        "\n",
        "# Generate word cloud for True News\n"
      ]
    },
    {
      "cell_type": "markdown",
      "metadata": {
        "id": "T6AQPITsFuop"
      },
      "source": [
        "##### 5.2.2  Find and display the top 40 words by frequency among fake news in validation data after processing the text"
      ]
    },
    {
      "cell_type": "code",
      "execution_count": null,
      "metadata": {
        "id": "4gk6xTdSFu1X"
      },
      "outputs": [],
      "source": [
        "## Use a word cloud find the top 40 words by frequency among fake news after processing the text\n",
        "\n",
        "# Generate word cloud for Fake News\n"
      ]
    },
    {
      "cell_type": "markdown",
      "metadata": {
        "id": "dx0s2a7xOxKf"
      },
      "source": [
        "### **5.3** Find and display the top unigrams, bigrams and trigrams by frequency in true news and fake news after processing the text  \n",
        "\n",
        "\n",
        "\n"
      ]
    },
    {
      "cell_type": "markdown",
      "metadata": {
        "id": "z2xZKU0RO5ft"
      },
      "source": [
        "##### 5.3.1 Write a function to get the specified top n-grams"
      ]
    },
    {
      "cell_type": "code",
      "execution_count": null,
      "metadata": {
        "id": "g70ZFxcoOxS2"
      },
      "outputs": [],
      "source": [
        "## Write a function to get the specified top n-grams\n"
      ]
    },
    {
      "cell_type": "markdown",
      "metadata": {
        "id": "k8ud5-r7O7ut"
      },
      "source": [
        "##### 5.3.2 Handle the NaN values"
      ]
    },
    {
      "cell_type": "code",
      "execution_count": null,
      "metadata": {
        "id": "vsBu-aotPBJF"
      },
      "outputs": [],
      "source": [
        "## First handle NaN values in the text data\n"
      ]
    },
    {
      "cell_type": "markdown",
      "metadata": {
        "id": "0KVWcxoDPAiE"
      },
      "source": [
        "### For True News\n"
      ]
    },
    {
      "cell_type": "markdown",
      "metadata": {
        "id": "Am3uuIlU4wj1"
      },
      "source": [
        "\n",
        "##### 5.3.3 Display the top 10 unigrams by frequency in true news and plot them as a bar graph"
      ]
    },
    {
      "cell_type": "code",
      "execution_count": null,
      "metadata": {
        "id": "HKdpz-XmPGHD"
      },
      "outputs": [],
      "source": [
        "## Print the top 10 unigrams by frequency in true news and plot the same using a bar graph\n"
      ]
    },
    {
      "cell_type": "markdown",
      "metadata": {
        "id": "kiKrOL8rPLAs"
      },
      "source": [
        "##### 5.3.4 Display the top 10 bigrams by frequency in true news and plot them as a bar graph"
      ]
    },
    {
      "cell_type": "code",
      "execution_count": null,
      "metadata": {
        "id": "iuyYGnaNPLwq"
      },
      "outputs": [],
      "source": [
        "## Print the top 10 bigrams by frequency in true news and plot the same using a bar graph\n"
      ]
    },
    {
      "cell_type": "markdown",
      "metadata": {
        "id": "9f8_h-BiPOKb"
      },
      "source": [
        "##### 5.3.5 Display the top 10 trigrams by frequency in true news and plot them as a bar graph"
      ]
    },
    {
      "cell_type": "code",
      "execution_count": null,
      "metadata": {
        "id": "8lz-XS7qPQZj"
      },
      "outputs": [],
      "source": [
        "## Print the top 10 trigrams by frequency in true news and plot the same using a bar graph\n"
      ]
    },
    {
      "cell_type": "markdown",
      "metadata": {
        "id": "7MfApeGrd6Fl"
      },
      "source": [
        "### For Fake News"
      ]
    },
    {
      "cell_type": "markdown",
      "metadata": {
        "id": "_CH1csmZeGqh"
      },
      "source": [
        "##### 5.3.6 Display the top 10 unigrams by frequency in fake news and plot them as a bar graph"
      ]
    },
    {
      "cell_type": "code",
      "execution_count": null,
      "metadata": {
        "id": "w310WzGAeG4K"
      },
      "outputs": [],
      "source": [
        "## Print the top 10 unigrams by frequency in fake news and plot the same using a bar graph\n"
      ]
    },
    {
      "cell_type": "markdown",
      "metadata": {
        "id": "yFjOaPx7eHFw"
      },
      "source": [
        "##### 5.3.7 Display the top 10 bigrams by frequency in fake news and plot them as a bar graph"
      ]
    },
    {
      "cell_type": "code",
      "execution_count": null,
      "metadata": {
        "id": "ZuTqnjkIeHSJ"
      },
      "outputs": [],
      "source": [
        "## Print the top 10 bigrams by frequency in fake news and plot the same using a bar graph\n"
      ]
    },
    {
      "cell_type": "markdown",
      "metadata": {
        "id": "Vn_oiixheHf_"
      },
      "source": [
        "##### 5.3.8 Display the top 10 trigrams by frequency in fake news and plot them as a bar graph"
      ]
    },
    {
      "cell_type": "code",
      "execution_count": null,
      "metadata": {
        "id": "xduyO4gheHtI"
      },
      "outputs": [],
      "source": [
        "## Print the top 10 trigrams by frequency in fake news and plot the same using a bar graph\n"
      ]
    },
    {
      "cell_type": "markdown",
      "metadata": {
        "id": "k-I0k0QtJrGA"
      },
      "source": [
        "## **6.** Feature Extraction  <font color = red>[10 marks]</font> <br>\n",
        "\n",
        "For any ML model to perform classification on textual data, you need to convert it to a vector form. In this assignment, you will use the Word2Vec Vectorizer to create vectors from textual data. Word2Vec model captures the semantic relationship between words.\n"
      ]
    },
    {
      "cell_type": "markdown",
      "metadata": {
        "id": "09xy3mAbtZgZ"
      },
      "source": [
        "### **6.1** Initialise Word2Vec model  <font color = red>[2 marks]</font>"
      ]
    },
    {
      "cell_type": "code",
      "execution_count": null,
      "metadata": {
        "id": "Y8fGwaCPJrGA",
        "scrolled": true
      },
      "outputs": [],
      "source": [
        "## Write your code here to initialise the Word2Vec model by downloading \"word2vec-google-news-300\"\n"
      ]
    },
    {
      "cell_type": "markdown",
      "metadata": {
        "id": "yYzD85nTJrGA"
      },
      "source": [
        "### **6.2** Extract vectors for cleaned news data   <font color = red>[8 marks]</font>"
      ]
    },
    {
      "cell_type": "code",
      "execution_count": null,
      "metadata": {
        "id": "ffzdDpp_JrGB"
      },
      "outputs": [],
      "source": [
        "## Write your code here to extract the vectors from the Word2Vec model for both training and validation data\n",
        "\n",
        "\n",
        "## Extract the target variable for the training data and validation data\n"
      ]
    },
    {
      "cell_type": "markdown",
      "metadata": {
        "id": "7Q9lwvNEJrGB"
      },
      "source": [
        "## **7.** Model Training and Evaluation <font color = red>[45 marks]</font>\n",
        "\n",
        "You will use a set of supervised models to classify the news into true or fake."
      ]
    },
    {
      "cell_type": "markdown",
      "metadata": {
        "id": "sO16REK-xpq4"
      },
      "source": [
        "### **7.0** Import models and evaluation metrics"
      ]
    },
    {
      "cell_type": "code",
      "execution_count": null,
      "metadata": {
        "id": "k0BKoT3wxpq4"
      },
      "outputs": [],
      "source": [
        "from sklearn.linear_model import LogisticRegression\n",
        "from sklearn.tree import DecisionTreeClassifier\n",
        "from sklearn.ensemble import RandomForestClassifier\n",
        "from sklearn.metrics import accuracy_score, precision_score, recall_score, f1_score\n",
        "from sklearn.metrics import classification_report"
      ]
    },
    {
      "cell_type": "markdown",
      "metadata": {
        "id": "SLuHH1olZXQq"
      },
      "source": [
        "### **7.1** Build Logistic Regression Model  <font color = red>[15 marks]</font>"
      ]
    },
    {
      "cell_type": "markdown",
      "metadata": {
        "id": "b1ItmvvGwduv"
      },
      "source": [
        "##### 7.1.1 Create and train logistic regression model on training data  <font color = red>[10 marks]</font>"
      ]
    },
    {
      "cell_type": "code",
      "execution_count": null,
      "metadata": {
        "id": "wzXd3YSu5eyY"
      },
      "outputs": [],
      "source": [
        "## Initialise Logistic Regression model\n",
        "\n",
        "## Train Logistic Regression model on training data\n",
        "\n",
        "## Predict on validation data\n"
      ]
    },
    {
      "cell_type": "markdown",
      "metadata": {
        "id": "BvNKC8ob8IAL"
      },
      "source": [
        "##### 7.1.2 Calculate and print accuracy, precision, recall and f1-score on validation data <font color = red>[5 marks]</font>"
      ]
    },
    {
      "cell_type": "code",
      "execution_count": null,
      "metadata": {
        "id": "BEyQcSoWo4xs"
      },
      "outputs": [],
      "source": [
        "## Calculate and print accuracy, precision, recall, f1-score on predicted labels\n"
      ]
    },
    {
      "cell_type": "code",
      "execution_count": null,
      "metadata": {
        "id": "T6P4MA_AC216"
      },
      "outputs": [],
      "source": [
        "# Classification Report\n"
      ]
    },
    {
      "cell_type": "markdown",
      "metadata": {
        "id": "TRGPMQZd8r8B"
      },
      "source": [
        "### **7.2** Build Decision Tree Model <font color = red>[15 marks]</font>"
      ]
    },
    {
      "cell_type": "markdown",
      "metadata": {
        "id": "Rgv4vqrt81sH"
      },
      "source": [
        "##### 7.2.1 Create and train a decision tree model on training data <font color = red>[10 marks]</font>"
      ]
    },
    {
      "cell_type": "code",
      "execution_count": null,
      "metadata": {
        "id": "i-mTab94xpq4"
      },
      "outputs": [],
      "source": [
        "## Initialise Decision Tree model\n",
        "\n",
        "## Train Decision Tree model on training data\n",
        "\n",
        "## Predict on validation data\n"
      ]
    },
    {
      "cell_type": "markdown",
      "metadata": {
        "id": "vZ_Vj5fs6w9I"
      },
      "source": [
        "##### 7.2.2 Calculate and print accuracy, precision, recall and f1-score on validation data <font color = red>[5 marks]</font>"
      ]
    },
    {
      "cell_type": "code",
      "execution_count": null,
      "metadata": {
        "id": "15iYiCQhp7jo"
      },
      "outputs": [],
      "source": [
        "## Calculate and print accuracy, precision, recall, f1-score on predicted labels\n"
      ]
    },
    {
      "cell_type": "code",
      "execution_count": null,
      "metadata": {
        "id": "DohNckxxxpq4"
      },
      "outputs": [],
      "source": [
        "# Classification Report\n"
      ]
    },
    {
      "cell_type": "markdown",
      "metadata": {
        "id": "xnB_P9kd9EdC"
      },
      "source": [
        "### **7.3** Build Random Forest Model <font color = red>[15 marks]</font>\n"
      ]
    },
    {
      "cell_type": "markdown",
      "metadata": {
        "id": "DhW0nyU29In9"
      },
      "source": [
        "##### 7.3.1 Create and train a random forest model on training data <font color = red>[10 marks]</font>"
      ]
    },
    {
      "cell_type": "code",
      "execution_count": null,
      "metadata": {
        "id": "uIvY9-oPxpq4"
      },
      "outputs": [],
      "source": [
        "## Initialise Random Forest model\n",
        "\n",
        "## Train Random Forest model on training data\n",
        "\n",
        "## Predict on validation data\n"
      ]
    },
    {
      "cell_type": "markdown",
      "metadata": {
        "id": "RRBxZieM7eea"
      },
      "source": [
        " ##### 7.3.2 Calculate and print accuracy, precision, recall and f1-score on validation data <font color = red>[5 marks]</font>"
      ]
    },
    {
      "cell_type": "code",
      "execution_count": null,
      "metadata": {
        "id": "VzNK3jcCq01-"
      },
      "outputs": [],
      "source": [
        "## Calculate and print accuracy, precision, recall, f1-score on predicted labels\n"
      ]
    },
    {
      "cell_type": "code",
      "execution_count": null,
      "metadata": {
        "id": "VIBCo_kFxpq4"
      },
      "outputs": [],
      "source": [
        "# Classification Report\n"
      ]
    },
    {
      "cell_type": "markdown",
      "source": [
        "## **8.** Conclusion <font color = red>[5 marks]</font>\n",
        "\n",
        "Summarise your findings by discussing patterns observed in true and fake news and how semantic classification addressed the problem. Highlight the best model chosen, the evaluation metric prioritised for the decision, and assess the approach and its impact."
      ],
      "metadata": {
        "id": "Lnj7RUDDSEJX"
      }
    }
  ],
  "metadata": {
    "colab": {
      "provenance": []
    },
    "kernelspec": {
      "display_name": "Python 3 (ipykernel)",
      "language": "python",
      "name": "python3"
    },
    "language_info": {
      "codemirror_mode": {
        "name": "ipython",
        "version": 3
      },
      "file_extension": ".py",
      "mimetype": "text/x-python",
      "name": "python",
      "nbconvert_exporter": "python",
      "pygments_lexer": "ipython3",
      "version": "3.12.4"
    }
  },
  "nbformat": 4,
  "nbformat_minor": 0
}